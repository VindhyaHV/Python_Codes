{
  "nbformat": 4,
  "nbformat_minor": 0,
  "metadata": {
    "colab": {
      "name": "pythonLeetCode.ipynb",
      "provenance": [],
      "collapsed_sections": [],
      "authorship_tag": "ABX9TyOWxF3P2zoVsUtH1wc+xCrr",
      "include_colab_link": true
    },
    "kernelspec": {
      "name": "python3",
      "display_name": "Python 3"
    },
    "language_info": {
      "name": "python"
    }
  },
  "cells": [
    {
      "cell_type": "markdown",
      "metadata": {
        "id": "view-in-github",
        "colab_type": "text"
      },
      "source": [
        "<a href=\"https://colab.research.google.com/github/VindhyaHV/Python_Codes/blob/main/pythonLeetCode.ipynb\" target=\"_parent\"><img src=\"https://colab.research.google.com/assets/colab-badge.svg\" alt=\"Open In Colab\"/></a>"
      ]
    },
    {
      "cell_type": "markdown",
      "source": [
        "1. Insert one\n",
        "\n",
        "You are given a large integer represented as an integer array digits, where each digits[i] is the ith digit of the integer. The digits are ordered from most significant to least significant in left-to-right order. The large integer does not contain any leading 0's.\n",
        "Increment the large integer by one and return the resulting array of digits.\n",
        "\n",
        "Output \n",
        "\n",
        "Input: digits = [1,2,3]\n",
        "Output: [1,2,4]\n",
        "Explanation: The array represents the integer 123.\n",
        "Incrementing by one gives 123 + 1 = 124.\n",
        "Thus, the result should be [1,2,4]."
      ],
      "metadata": {
        "id": "RK17-v17oU6R"
      }
    },
    {
      "cell_type": "code",
      "execution_count": null,
      "metadata": {
        "id": "Af2-NlL7oMlk"
      },
      "outputs": [],
      "source": [
        "class Solution:\n",
        "    def plusOne(self, digits: List[int]) -> List[int]:\n",
        "        dig = \" \"\n",
        "        for i in range(len(digits)):\n",
        "            dig+=(str(digits[i]))\n",
        "        dig = str(int(dig)+1)\n",
        "        print(dig)\n",
        "        l = dig.split()\n",
        "        j = 0\n",
        "        new = []\n",
        "        for i in range(len(dig)):\n",
        "            new.append(dig[i])\n",
        "        return new\n",
        "        \n",
        "        #return digits\n",
        "        "
      ]
    },
    {
      "cell_type": "markdown",
      "source": [
        "2. Two Sum\n",
        "\n",
        "Given an array of integers nums and an integer target, return indices of the two numbers such that they add up to target.\n",
        "\n",
        "You may assume that each input would have exactly one solution, and you may not use the same element twice.\n",
        "\n",
        "You can return the answer in any order.\n",
        "\n",
        "Input: nums = [2,7,11,15], target = 9\n",
        "Output: [0,1]\n",
        "Explanation: Because nums[0] + nums[1] == 9, we return [0, 1]."
      ],
      "metadata": {
        "id": "9GvUWjzavJGe"
      }
    },
    {
      "cell_type": "code",
      "source": [
        "class Solution:\n",
        "    def twoSum(self, nums: List[int], target: int) -> List[int]:\n",
        "        self.nums = nums\n",
        "        self.target = target \n",
        "        for i,n in enumerate(nums):\n",
        "            m = target-n\n",
        "            if m in nums:\n",
        "                if i!=nums.index(m):\n",
        "                    return i,nums.index(m)"
      ],
      "metadata": {
        "id": "4YyQj99tvJqY"
      },
      "execution_count": null,
      "outputs": []
    },
    {
      "cell_type": "markdown",
      "source": [
        "3. Palindrome Number\n",
        "\n",
        "Given an integer x, return true if x is palindrome integer.\n",
        "\n",
        "An integer is a palindrome when it reads the same backward as forward.\n",
        "\n",
        "For example, 121 is a palindrome while 123 is not."
      ],
      "metadata": {
        "id": "rtb2wjvpvzzL"
      }
    },
    {
      "cell_type": "code",
      "source": [
        "class Solution:\n",
        "    def isPalindrome(self, x: int) -> bool:\n",
        "        a = []\n",
        "        if x<0:\n",
        "            return False\n",
        "        if x == 0:\n",
        "            return True\n",
        "        while(x>=1):\n",
        "            a.append(int(x%10))\n",
        "            x = x/10\n",
        "        for i in range(len(a)):\n",
        "            j = len(a)-1-i\n",
        "            if a[i] != a[j]:\n",
        "                return False\n",
        "        return True"
      ],
      "metadata": {
        "id": "k7YBXl3cvkRo"
      },
      "execution_count": null,
      "outputs": []
    }
  ]
}