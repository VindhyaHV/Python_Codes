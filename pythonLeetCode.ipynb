{
  "nbformat": 4,
  "nbformat_minor": 0,
  "metadata": {
    "colab": {
      "name": "pythonLeetCode.ipynb",
      "provenance": [],
      "authorship_tag": "ABX9TyOVfd5lBt97lA3awFFjNbeO",
      "include_colab_link": true
    },
    "kernelspec": {
      "name": "python3",
      "display_name": "Python 3"
    },
    "language_info": {
      "name": "python"
    }
  },
  "cells": [
    {
      "cell_type": "markdown",
      "metadata": {
        "id": "view-in-github",
        "colab_type": "text"
      },
      "source": [
        "<a href=\"https://colab.research.google.com/github/VindhyaHV/Python_Codes/blob/main/pythonLeetCode.ipynb\" target=\"_parent\"><img src=\"https://colab.research.google.com/assets/colab-badge.svg\" alt=\"Open In Colab\"/></a>"
      ]
    },
    {
      "cell_type": "markdown",
      "source": [
        "1. You are given a large integer represented as an integer array digits, where each digits[i] is the ith digit of the integer. The digits are ordered from most significant to least significant in left-to-right order. The large integer does not contain any leading 0's.\n",
        "Increment the large integer by one and return the resulting array of digits.\n",
        "\n",
        "Output \n",
        "\n",
        "Input: digits = [1,2,3]\n",
        "Output: [1,2,4]\n",
        "Explanation: The array represents the integer 123.\n",
        "Incrementing by one gives 123 + 1 = 124.\n",
        "Thus, the result should be [1,2,4]."
      ],
      "metadata": {
        "id": "RK17-v17oU6R"
      }
    },
    {
      "cell_type": "code",
      "execution_count": null,
      "metadata": {
        "id": "Af2-NlL7oMlk"
      },
      "outputs": [],
      "source": [
        "class Solution:\n",
        "    def plusOne(self, digits: List[int]) -> List[int]:\n",
        "        dig = \" \"\n",
        "        for i in range(len(digits)):\n",
        "            dig+=(str(digits[i]))\n",
        "        dig = str(int(dig)+1)\n",
        "        print(dig)\n",
        "        l = dig.split()\n",
        "        j = 0\n",
        "        new = []\n",
        "        for i in range(len(dig)):\n",
        "            new.append(dig[i])\n",
        "        return new\n",
        "        \n",
        "        #return digits\n",
        "        "
      ]
    }
  ]
}