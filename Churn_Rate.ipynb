{
  "nbformat": 4,
  "nbformat_minor": 0,
  "metadata": {
    "colab": {
      "name": "Churn Rate.ipynb",
      "provenance": [],
      "collapsed_sections": []
    },
    "kernelspec": {
      "name": "python3",
      "display_name": "Python 3"
    },
    "language_info": {
      "name": "python"
    }
  },
  "cells": [
    {
      "cell_type": "code",
      "execution_count": 187,
      "metadata": {
        "id": "ht7x9ldyeMV2"
      },
      "outputs": [],
      "source": [
        "import numpy as np\n",
        "import pandas as pd\n",
        "import matplotlib.pyplot as plt\n",
        "import seaborn as sns"
      ]
    },
    {
      "cell_type": "markdown",
      "source": [
        "###EDA"
      ],
      "metadata": {
        "id": "XRFB6Be5ewlB"
      }
    },
    {
      "cell_type": "code",
      "source": [
        "train = pd.read_csv('train_PDjVQMB.csv')\n",
        "test = pd.read_csv('test_lTY72QC.csv')"
      ],
      "metadata": {
        "id": "WZxn3uvjeTmK"
      },
      "execution_count": 280,
      "outputs": []
    },
    {
      "cell_type": "code",
      "source": [
        "test_id = test.iloc[:,0]\n",
        "train = train.iloc[:,1:]\n",
        "test = test.iloc[:,1:]"
      ],
      "metadata": {
        "id": "NLm1-OLfeqCK"
      },
      "execution_count": 282,
      "outputs": []
    },
    {
      "cell_type": "code",
      "source": [
        ""
      ],
      "metadata": {
        "id": "WSRp1DjpK2zI"
      },
      "execution_count": null,
      "outputs": []
    },
    {
      "cell_type": "code",
      "source": [
        "train.head()"
      ],
      "metadata": {
        "colab": {
          "base_uri": "https://localhost:8080/",
          "height": 206
        },
        "id": "r4Io24rZevNo",
        "outputId": "23861c61-ce29-43d1-a9ff-e2f03a1ab3eb"
      },
      "execution_count": 190,
      "outputs": [
        {
          "output_type": "execute_result",
          "data": {
            "text/html": [
              "\n",
              "  <div id=\"df-c1cc42fb-765d-4652-8238-a5db8561f5aa\">\n",
              "    <div class=\"colab-df-container\">\n",
              "      <div>\n",
              "<style scoped>\n",
              "    .dataframe tbody tr th:only-of-type {\n",
              "        vertical-align: middle;\n",
              "    }\n",
              "\n",
              "    .dataframe tbody tr th {\n",
              "        vertical-align: top;\n",
              "    }\n",
              "\n",
              "    .dataframe thead th {\n",
              "        text-align: right;\n",
              "    }\n",
              "</style>\n",
              "<table border=\"1\" class=\"dataframe\">\n",
              "  <thead>\n",
              "    <tr style=\"text-align: right;\">\n",
              "      <th></th>\n",
              "      <th>Age</th>\n",
              "      <th>Gender</th>\n",
              "      <th>Income</th>\n",
              "      <th>Balance</th>\n",
              "      <th>Vintage</th>\n",
              "      <th>Transaction_Status</th>\n",
              "      <th>Product_Holdings</th>\n",
              "      <th>Credit_Card</th>\n",
              "      <th>Credit_Category</th>\n",
              "      <th>Is_Churn</th>\n",
              "    </tr>\n",
              "  </thead>\n",
              "  <tbody>\n",
              "    <tr>\n",
              "      <th>0</th>\n",
              "      <td>36</td>\n",
              "      <td>Female</td>\n",
              "      <td>5L - 10L</td>\n",
              "      <td>563266.44</td>\n",
              "      <td>4</td>\n",
              "      <td>0</td>\n",
              "      <td>1</td>\n",
              "      <td>0</td>\n",
              "      <td>Average</td>\n",
              "      <td>1</td>\n",
              "    </tr>\n",
              "    <tr>\n",
              "      <th>1</th>\n",
              "      <td>53</td>\n",
              "      <td>Female</td>\n",
              "      <td>Less than 5L</td>\n",
              "      <td>875572.11</td>\n",
              "      <td>2</td>\n",
              "      <td>1</td>\n",
              "      <td>1</td>\n",
              "      <td>1</td>\n",
              "      <td>Poor</td>\n",
              "      <td>0</td>\n",
              "    </tr>\n",
              "    <tr>\n",
              "      <th>2</th>\n",
              "      <td>35</td>\n",
              "      <td>Female</td>\n",
              "      <td>More than 15L</td>\n",
              "      <td>701607.06</td>\n",
              "      <td>2</td>\n",
              "      <td>1</td>\n",
              "      <td>2</td>\n",
              "      <td>0</td>\n",
              "      <td>Poor</td>\n",
              "      <td>0</td>\n",
              "    </tr>\n",
              "    <tr>\n",
              "      <th>3</th>\n",
              "      <td>43</td>\n",
              "      <td>Female</td>\n",
              "      <td>More than 15L</td>\n",
              "      <td>1393922.16</td>\n",
              "      <td>0</td>\n",
              "      <td>1</td>\n",
              "      <td>2</td>\n",
              "      <td>1</td>\n",
              "      <td>Poor</td>\n",
              "      <td>1</td>\n",
              "    </tr>\n",
              "    <tr>\n",
              "      <th>4</th>\n",
              "      <td>39</td>\n",
              "      <td>Female</td>\n",
              "      <td>More than 15L</td>\n",
              "      <td>893146.23</td>\n",
              "      <td>1</td>\n",
              "      <td>1</td>\n",
              "      <td>1</td>\n",
              "      <td>1</td>\n",
              "      <td>Good</td>\n",
              "      <td>1</td>\n",
              "    </tr>\n",
              "  </tbody>\n",
              "</table>\n",
              "</div>\n",
              "      <button class=\"colab-df-convert\" onclick=\"convertToInteractive('df-c1cc42fb-765d-4652-8238-a5db8561f5aa')\"\n",
              "              title=\"Convert this dataframe to an interactive table.\"\n",
              "              style=\"display:none;\">\n",
              "        \n",
              "  <svg xmlns=\"http://www.w3.org/2000/svg\" height=\"24px\"viewBox=\"0 0 24 24\"\n",
              "       width=\"24px\">\n",
              "    <path d=\"M0 0h24v24H0V0z\" fill=\"none\"/>\n",
              "    <path d=\"M18.56 5.44l.94 2.06.94-2.06 2.06-.94-2.06-.94-.94-2.06-.94 2.06-2.06.94zm-11 1L8.5 8.5l.94-2.06 2.06-.94-2.06-.94L8.5 2.5l-.94 2.06-2.06.94zm10 10l.94 2.06.94-2.06 2.06-.94-2.06-.94-.94-2.06-.94 2.06-2.06.94z\"/><path d=\"M17.41 7.96l-1.37-1.37c-.4-.4-.92-.59-1.43-.59-.52 0-1.04.2-1.43.59L10.3 9.45l-7.72 7.72c-.78.78-.78 2.05 0 2.83L4 21.41c.39.39.9.59 1.41.59.51 0 1.02-.2 1.41-.59l7.78-7.78 2.81-2.81c.8-.78.8-2.07 0-2.86zM5.41 20L4 18.59l7.72-7.72 1.47 1.35L5.41 20z\"/>\n",
              "  </svg>\n",
              "      </button>\n",
              "      \n",
              "  <style>\n",
              "    .colab-df-container {\n",
              "      display:flex;\n",
              "      flex-wrap:wrap;\n",
              "      gap: 12px;\n",
              "    }\n",
              "\n",
              "    .colab-df-convert {\n",
              "      background-color: #E8F0FE;\n",
              "      border: none;\n",
              "      border-radius: 50%;\n",
              "      cursor: pointer;\n",
              "      display: none;\n",
              "      fill: #1967D2;\n",
              "      height: 32px;\n",
              "      padding: 0 0 0 0;\n",
              "      width: 32px;\n",
              "    }\n",
              "\n",
              "    .colab-df-convert:hover {\n",
              "      background-color: #E2EBFA;\n",
              "      box-shadow: 0px 1px 2px rgba(60, 64, 67, 0.3), 0px 1px 3px 1px rgba(60, 64, 67, 0.15);\n",
              "      fill: #174EA6;\n",
              "    }\n",
              "\n",
              "    [theme=dark] .colab-df-convert {\n",
              "      background-color: #3B4455;\n",
              "      fill: #D2E3FC;\n",
              "    }\n",
              "\n",
              "    [theme=dark] .colab-df-convert:hover {\n",
              "      background-color: #434B5C;\n",
              "      box-shadow: 0px 1px 3px 1px rgba(0, 0, 0, 0.15);\n",
              "      filter: drop-shadow(0px 1px 2px rgba(0, 0, 0, 0.3));\n",
              "      fill: #FFFFFF;\n",
              "    }\n",
              "  </style>\n",
              "\n",
              "      <script>\n",
              "        const buttonEl =\n",
              "          document.querySelector('#df-c1cc42fb-765d-4652-8238-a5db8561f5aa button.colab-df-convert');\n",
              "        buttonEl.style.display =\n",
              "          google.colab.kernel.accessAllowed ? 'block' : 'none';\n",
              "\n",
              "        async function convertToInteractive(key) {\n",
              "          const element = document.querySelector('#df-c1cc42fb-765d-4652-8238-a5db8561f5aa');\n",
              "          const dataTable =\n",
              "            await google.colab.kernel.invokeFunction('convertToInteractive',\n",
              "                                                     [key], {});\n",
              "          if (!dataTable) return;\n",
              "\n",
              "          const docLinkHtml = 'Like what you see? Visit the ' +\n",
              "            '<a target=\"_blank\" href=https://colab.research.google.com/notebooks/data_table.ipynb>data table notebook</a>'\n",
              "            + ' to learn more about interactive tables.';\n",
              "          element.innerHTML = '';\n",
              "          dataTable['output_type'] = 'display_data';\n",
              "          await google.colab.output.renderOutput(dataTable, element);\n",
              "          const docLink = document.createElement('div');\n",
              "          docLink.innerHTML = docLinkHtml;\n",
              "          element.appendChild(docLink);\n",
              "        }\n",
              "      </script>\n",
              "    </div>\n",
              "  </div>\n",
              "  "
            ],
            "text/plain": [
              "   Age  Gender         Income     Balance  Vintage  Transaction_Status  \\\n",
              "0   36  Female       5L - 10L   563266.44        4                   0   \n",
              "1   53  Female   Less than 5L   875572.11        2                   1   \n",
              "2   35  Female  More than 15L   701607.06        2                   1   \n",
              "3   43  Female  More than 15L  1393922.16        0                   1   \n",
              "4   39  Female  More than 15L   893146.23        1                   1   \n",
              "\n",
              "  Product_Holdings  Credit_Card Credit_Category  Is_Churn  \n",
              "0                1            0         Average         1  \n",
              "1                1            1            Poor         0  \n",
              "2                2            0            Poor         0  \n",
              "3                2            1            Poor         1  \n",
              "4                1            1            Good         1  "
            ]
          },
          "metadata": {},
          "execution_count": 190
        }
      ]
    },
    {
      "cell_type": "code",
      "source": [
        "print('Shape of train data',train.shape)\n",
        "print('Shape of test data',test.shape)"
      ],
      "metadata": {
        "colab": {
          "base_uri": "https://localhost:8080/"
        },
        "id": "oGi0jsNKe3NO",
        "outputId": "858b2ab9-d4fd-4107-9e27-e5e21d28330c"
      },
      "execution_count": 191,
      "outputs": [
        {
          "output_type": "stream",
          "name": "stdout",
          "text": [
            "Shape of train data (6650, 10)\n",
            "Shape of test data (2851, 9)\n"
          ]
        }
      ]
    },
    {
      "cell_type": "code",
      "source": [
        "print(train.isna().sum())\n",
        "print('*'*100)\n",
        "print(test.isna().sum())"
      ],
      "metadata": {
        "colab": {
          "base_uri": "https://localhost:8080/"
        },
        "id": "SMXrvLhtfBr3",
        "outputId": "e84bd445-9022-42fc-9c29-ace3b33c29e8"
      },
      "execution_count": 192,
      "outputs": [
        {
          "output_type": "stream",
          "name": "stdout",
          "text": [
            "Age                   0\n",
            "Gender                0\n",
            "Income                0\n",
            "Balance               0\n",
            "Vintage               0\n",
            "Transaction_Status    0\n",
            "Product_Holdings      0\n",
            "Credit_Card           0\n",
            "Credit_Category       0\n",
            "Is_Churn              0\n",
            "dtype: int64\n",
            "****************************************************************************************************\n",
            "Age                   0\n",
            "Gender                0\n",
            "Income                0\n",
            "Balance               0\n",
            "Vintage               0\n",
            "Transaction_Status    0\n",
            "Product_Holdings      0\n",
            "Credit_Card           0\n",
            "Credit_Category       0\n",
            "dtype: int64\n"
          ]
        }
      ]
    },
    {
      "cell_type": "markdown",
      "source": [
        "There are no missing data in train and test "
      ],
      "metadata": {
        "id": "YsxUE9NVfS-2"
      }
    },
    {
      "cell_type": "markdown",
      "source": [
        "Age"
      ],
      "metadata": {
        "id": "AYbb-v5jxW9I"
      }
    },
    {
      "cell_type": "code",
      "source": [
        "count = np.sort(train['Age'].value_counts())\n",
        "age = list(train['Age'].value_counts().index)"
      ],
      "metadata": {
        "id": "Ks0s0szfxWn8"
      },
      "execution_count": 193,
      "outputs": []
    },
    {
      "cell_type": "code",
      "source": [
        "plt.bar(age,count)"
      ],
      "metadata": {
        "colab": {
          "base_uri": "https://localhost:8080/",
          "height": 282
        },
        "id": "eD2nhPR10eRJ",
        "outputId": "4764ab3c-40a2-4e6b-a879-28b16d9be65d"
      },
      "execution_count": 194,
      "outputs": [
        {
          "output_type": "execute_result",
          "data": {
            "text/plain": [
              "<BarContainer object of 52 artists>"
            ]
          },
          "metadata": {},
          "execution_count": 194
        },
        {
          "output_type": "display_data",
          "data": {
            "image/png": "[encoded data removed]",
            "text/plain": [
              "<Figure size 432x288 with 1 Axes>"
            ]
          },
          "metadata": {
            "needs_background": "light"
          }
        }
      ]
    },
    {
      "cell_type": "markdown",
      "source": [
        "We can see that people in the range 30-40 are less in number , where as Customers of age around 20-21 are more in number"
      ],
      "metadata": {
        "id": "Ev7IxcdE0hv9"
      }
    },
    {
      "cell_type": "code",
      "source": [
        "print(train['Age'].max())\n",
        "print(train['Age'].min())\n",
        "print(train['Age'].mean())"
      ],
      "metadata": {
        "colab": {
          "base_uri": "https://localhost:8080/"
        },
        "id": "yUAb-xE07Bws",
        "outputId": "37b08510-35b3-4a0c-ef07-5a9e0dc9407a"
      },
      "execution_count": 195,
      "outputs": [
        {
          "output_type": "stream",
          "name": "stdout",
          "text": [
            "72\n",
            "21\n",
            "41.130225563909775\n"
          ]
        }
      ]
    },
    {
      "cell_type": "markdown",
      "source": [
        "1. max age = 72 \n",
        "2. min age = 21 \n",
        "3. average people age = 41.13"
      ],
      "metadata": {
        "id": "nUCdQHc87Sbn"
      }
    },
    {
      "cell_type": "code",
      "source": [
        "sns.FacetGrid(train,hue = 'Is_Churn',height = 7).map(sns.histplot,'Age').add_legend()"
      ],
      "metadata": {
        "colab": {
          "base_uri": "https://localhost:8080/",
          "height": 530
        },
        "id": "xBQb7R0A7ajp",
        "outputId": "2bf1455b-2b65-4eaa-abeb-027aa8c0c32a"
      },
      "execution_count": 196,
      "outputs": [
        {
          "output_type": "execute_result",
          "data": {
            "text/plain": [
              "<seaborn.axisgrid.FacetGrid at 0x7f03ad753390>"
            ]
          },
          "metadata": {},
          "execution_count": 196
        },
        {
          "output_type": "display_data",
          "data": {
            "image/png": "[encoded data removed]",
            "text/plain": [
              "<Figure size 555.125x504 with 1 Axes>"
            ]
          },
          "metadata": {
            "needs_background": "light"
          }
        }
      ]
    },
    {
      "cell_type": "markdown",
      "source": [
        "Customers of age range 35 - 45 are more likely to have churn = 1"
      ],
      "metadata": {
        "id": "Rzzr7Sh17w8t"
      }
    },
    {
      "cell_type": "code",
      "source": [
        "sns.FacetGrid(train,hue = 'Gender',height = 7).map(sns.histplot,'Age').add_legend()"
      ],
      "metadata": {
        "colab": {
          "base_uri": "https://localhost:8080/",
          "height": 530
        },
        "id": "ZW-iiuV6741X",
        "outputId": "8858f760-a3ea-4ac9-c7d8-2b8b9ff3a987"
      },
      "execution_count": 197,
      "outputs": [
        {
          "output_type": "execute_result",
          "data": {
            "text/plain": [
              "<seaborn.axisgrid.FacetGrid at 0x7f03ad6f9d10>"
            ]
          },
          "metadata": {},
          "execution_count": 197
        },
        {
          "output_type": "display_data",
          "data": {
            "image/png": "[encoded data removed]",
            "text/plain": [
              "<Figure size 576.125x504 with 1 Axes>"
            ]
          },
          "metadata": {
            "needs_background": "light"
          }
        }
      ]
    },
    {
      "cell_type": "markdown",
      "source": [
        "Male Customers are more likely to have churn = 1"
      ],
      "metadata": {
        "id": "S_FLUaYo8IGG"
      }
    },
    {
      "cell_type": "code",
      "source": [
        "sns.FacetGrid(train[:][train['Gender']=='Male'],hue = 'Gender',height = 5).map(sns.histplot,'Age').add_legend()\n",
        "sns.FacetGrid(train[:][train['Gender']=='Female'],hue = 'Gender',height = 5).map(sns.histplot,'Age').add_legend()"
      ],
      "metadata": {
        "colab": {
          "base_uri": "https://localhost:8080/",
          "height": 738
        },
        "id": "jkWFPS6p8Ntx",
        "outputId": "5c29a8c7-805d-42ef-cc26-13b7e8178466"
      },
      "execution_count": 198,
      "outputs": [
        {
          "output_type": "execute_result",
          "data": {
            "text/plain": [
              "<seaborn.axisgrid.FacetGrid at 0x7f03ad5a1d90>"
            ]
          },
          "metadata": {},
          "execution_count": 198
        },
        {
          "output_type": "display_data",
          "data": {
            "image/png": "[encoded data removed]",
            "text/plain": [
              "<Figure size 419.75x360 with 1 Axes>"
            ]
          },
          "metadata": {
            "needs_background": "light"
          }
        },
        {
          "output_type": "display_data",
          "data": {
            "image/png": "[encoded data removed]",
            "text/plain": [
              "<Figure size 432.125x360 with 1 Axes>"
            ]
          },
          "metadata": {
            "needs_background": "light"
          }
        }
      ]
    },
    {
      "cell_type": "markdown",
      "source": [
        "1. Both male and female customers of middle age are more in number"
      ],
      "metadata": {
        "id": "poXraasX83Q5"
      }
    },
    {
      "cell_type": "code",
      "source": [
        "sns.FacetGrid(train[:][train['Gender']=='Male'],hue = 'Gender',height = 5).map(sns.histplot,'Balance').add_legend()\n",
        "sns.FacetGrid(train[:][train['Gender']=='Female'],hue = 'Gender',height = 5).map(sns.histplot,'Balance').add_legend()"
      ],
      "metadata": {
        "colab": {
          "base_uri": "https://localhost:8080/",
          "height": 738
        },
        "id": "JU40ClWf-AXF",
        "outputId": "25b168c7-9d85-4475-9ed6-421795a8ac55"
      },
      "execution_count": 199,
      "outputs": [
        {
          "output_type": "execute_result",
          "data": {
            "text/plain": [
              "<seaborn.axisgrid.FacetGrid at 0x7f03ad324850>"
            ]
          },
          "metadata": {},
          "execution_count": 199
        },
        {
          "output_type": "display_data",
          "data": {
            "image/png": "[encoded data removed]",
            "text/plain": [
              "<Figure size 419.75x360 with 1 Axes>"
            ]
          },
          "metadata": {
            "needs_background": "light"
          }
        },
        {
          "output_type": "display_data",
          "data": {
            "image/png": "[encoded data removed]",
            "text/plain": [
              "<Figure size 432.125x360 with 1 Axes>"
            ]
          },
          "metadata": {
            "needs_background": "light"
          }
        }
      ]
    },
    {
      "cell_type": "markdown",
      "source": [
        "1. We can see that people with low balance are more in number and less customers with high balance"
      ],
      "metadata": {
        "id": "s5_JxqHZ-GNN"
      }
    },
    {
      "cell_type": "code",
      "source": [
        "sns.FacetGrid(train,hue = 'Gender',height = 5).map(sns.histplot,'Credit_Card').add_legend()\n",
        "#sns.FacetGrid(train[:][train['Gender']=='Female'],hue = 'Gender',height = 5).map(sns.histplot,'Credit_Card').add_legend()"
      ],
      "metadata": {
        "colab": {
          "base_uri": "https://localhost:8080/",
          "height": 386
        },
        "id": "ZzEnMBWP_DTk",
        "outputId": "c6c244c4-d242-4302-98d0-7bb1b9ed31d5"
      },
      "execution_count": 200,
      "outputs": [
        {
          "output_type": "execute_result",
          "data": {
            "text/plain": [
              "<seaborn.axisgrid.FacetGrid at 0x7f03ad19e1d0>"
            ]
          },
          "metadata": {},
          "execution_count": 200
        },
        {
          "output_type": "display_data",
          "data": {
            "image/png": "[encoded data removed]",
            "text/plain": [
              "<Figure size 432.125x360 with 1 Axes>"
            ]
          },
          "metadata": {
            "needs_background": "light"
          }
        }
      ]
    },
    {
      "cell_type": "code",
      "source": [
        "sns.FacetGrid(train,hue = 'Credit_Card',height = 5).map(sns.histplot,'Age').add_legend()"
      ],
      "metadata": {
        "colab": {
          "base_uri": "https://localhost:8080/",
          "height": 386
        },
        "id": "2z54QKChABbe",
        "outputId": "7812a22a-ec05-4ed3-f7a1-9aaa29a0a8b5"
      },
      "execution_count": 201,
      "outputs": [
        {
          "output_type": "execute_result",
          "data": {
            "text/plain": [
              "<seaborn.axisgrid.FacetGrid at 0x7f03ad0e4e50>"
            ]
          },
          "metadata": {},
          "execution_count": 201
        },
        {
          "output_type": "display_data",
          "data": {
            "image/png": "[encoded data removed]",
            "text/plain": [
              "<Figure size 426.375x360 with 1 Axes>"
            ]
          },
          "metadata": {
            "needs_background": "light"
          }
        }
      ]
    },
    {
      "cell_type": "markdown",
      "source": [
        "People of age range 30-50 are more likely to have Credit_card"
      ],
      "metadata": {
        "id": "8gNGCUMvAMFP"
      }
    },
    {
      "cell_type": "markdown",
      "source": [
        "Male Customers with credit card are more in number"
      ],
      "metadata": {
        "id": "Zmbebfro_4xX"
      }
    },
    {
      "cell_type": "markdown",
      "source": [
        ""
      ],
      "metadata": {
        "id": "YGnJT8IK8reK"
      }
    },
    {
      "cell_type": "markdown",
      "source": [
        "Income"
      ],
      "metadata": {
        "id": "kRt9QUgUgPVJ"
      }
    },
    {
      "cell_type": "code",
      "source": [
        "print(train['Income'].value_counts())"
      ],
      "metadata": {
        "colab": {
          "base_uri": "https://localhost:8080/"
        },
        "id": "OPYOMYtTfR3n",
        "outputId": "c29a547d-9bd9-474c-cda2-cf9052820947"
      },
      "execution_count": 202,
      "outputs": [
        {
          "output_type": "stream",
          "name": "stdout",
          "text": [
            "10L - 15L        1885\n",
            "5L - 10L         1847\n",
            "Less than 5L     1573\n",
            "More than 15L    1345\n",
            "Name: Income, dtype: int64\n"
          ]
        }
      ]
    },
    {
      "cell_type": "code",
      "source": [
        "plt.bar(train['Income'].value_counts().index,train['Income'].value_counts())"
      ],
      "metadata": {
        "colab": {
          "base_uri": "https://localhost:8080/",
          "height": 282
        },
        "id": "6Le1o9nEgRYR",
        "outputId": "65731ed1-ca59-4f30-946f-019c2ce70bf2"
      },
      "execution_count": 203,
      "outputs": [
        {
          "output_type": "execute_result",
          "data": {
            "text/plain": [
              "<BarContainer object of 4 artists>"
            ]
          },
          "metadata": {},
          "execution_count": 203
        },
        {
          "output_type": "display_data",
          "data": {
            "image/png": "[encoded data removed]",
            "text/plain": [
              "<Figure size 432x288 with 1 Axes>"
            ]
          },
          "metadata": {
            "needs_background": "light"
          }
        }
      ]
    },
    {
      "cell_type": "markdown",
      "source": [
        "income range 10L-15L has more number of ids \n",
        "where as more than 15L are less in number"
      ],
      "metadata": {
        "id": "taNMAaiRgp32"
      }
    },
    {
      "cell_type": "code",
      "source": [
        "sns.FacetGrid(train,hue = 'Is_Churn',height = 7).map(sns.histplot,'Income').add_legend()"
      ],
      "metadata": {
        "colab": {
          "base_uri": "https://localhost:8080/",
          "height": 530
        },
        "id": "VfBgrky9g3li",
        "outputId": "d53eadf1-c01c-401c-cdc7-8abfa23d472e"
      },
      "execution_count": 204,
      "outputs": [
        {
          "output_type": "execute_result",
          "data": {
            "text/plain": [
              "<seaborn.axisgrid.FacetGrid at 0x7f03acfe7a90>"
            ]
          },
          "metadata": {},
          "execution_count": 204
        },
        {
          "output_type": "display_data",
          "data": {
            "image/png": "[encoded data removed]",
            "text/plain": [
              "<Figure size 555.125x504 with 1 Axes>"
            ]
          },
          "metadata": {
            "needs_background": "light"
          }
        }
      ]
    },
    {
      "cell_type": "markdown",
      "source": [
        "We can see that 10L-15L has more of Churn rate"
      ],
      "metadata": {
        "id": "lxLC49DBh7vm"
      }
    },
    {
      "cell_type": "markdown",
      "source": [
        "Balance"
      ],
      "metadata": {
        "id": "YUlCnaQxiFrj"
      }
    },
    {
      "cell_type": "code",
      "source": [
        "train['Balance']"
      ],
      "metadata": {
        "colab": {
          "base_uri": "https://localhost:8080/"
        },
        "id": "LjJoYrbGiHOb",
        "outputId": "babd63e7-fb75-4e4e-acff-405b9b00aaf2"
      },
      "execution_count": 205,
      "outputs": [
        {
          "output_type": "execute_result",
          "data": {
            "text/plain": [
              "0        563266.44\n",
              "1        875572.11\n",
              "2        701607.06\n",
              "3       1393922.16\n",
              "4        893146.23\n",
              "           ...    \n",
              "6645    1354526.19\n",
              "6646     596286.54\n",
              "6647     979298.19\n",
              "6648     395233.65\n",
              "6649     826947.27\n",
              "Name: Balance, Length: 6650, dtype: float64"
            ]
          },
          "metadata": {},
          "execution_count": 205
        }
      ]
    },
    {
      "cell_type": "markdown",
      "source": [
        "PDF , CDF of Balance"
      ],
      "metadata": {
        "id": "egAVXRlEi-SH"
      }
    },
    {
      "cell_type": "code",
      "source": [
        "counts,bin_edges = np.histogram(train['Balance'],bins=10,density=True)\n",
        "pdf = counts/np.sum(counts)\n",
        "print(pdf)\n",
        "cdf = np.cumsum(pdf)\n",
        "print(cdf)\n",
        "plt.plot(bin_edges[1:],pdf)\n",
        "plt.plot(bin_edges[1:],cdf)\n",
        "plt.title('PDF,CDF of Balance')\n",
        "plt.xlabel('Balance')\n",
        "plt.ylabel('PDF,CDF')\n",
        "plt.show()"
      ],
      "metadata": {
        "colab": {
          "base_uri": "https://localhost:8080/",
          "height": 365
        },
        "id": "iOthTha_iJyI",
        "outputId": "37d7e36f-deb6-46fa-87df-b389bf624a5a"
      },
      "execution_count": 206,
      "outputs": [
        {
          "output_type": "stream",
          "name": "stdout",
          "text": [
            "[0.17308271 0.13172932 0.16796992 0.1712782  0.14165414 0.09849624\n",
            " 0.06255639 0.03218045 0.01218045 0.00887218]\n",
            "[0.17308271 0.30481203 0.47278195 0.64406015 0.78571429 0.88421053\n",
            " 0.94676692 0.97894737 0.99112782 1.        ]\n"
          ]
        },
        {
          "output_type": "display_data",
          "data": {
            "image/png": "[encoded data removed]",
            "text/plain": [
              "<Figure size 432x288 with 1 Axes>"
            ]
          },
          "metadata": {
            "needs_background": "light"
          }
        }
      ]
    },
    {
      "cell_type": "markdown",
      "source": [
        "We can see that most of the people are having balance in the range 0.5e6 - 1e6"
      ],
      "metadata": {
        "id": "Ng-NiEeGlOsJ"
      }
    },
    {
      "cell_type": "code",
      "source": [
        "print('Minimum Balance',train['Balance'].min())\n",
        "print('Maximum Balance',train['Balance'].max())\n",
        "print('Mean Balance',train['Balance'].mean())\n",
        "plt.title('Percentile Balance')\n",
        "plt.plot(np.percentile(train['Balance'],np.arange(0,100,10)))"
      ],
      "metadata": {
        "colab": {
          "base_uri": "https://localhost:8080/",
          "height": 350
        },
        "id": "DzEjwt6Hldn9",
        "outputId": "2466246b-1299-4a11-aa1f-3b5163bea231"
      },
      "execution_count": 207,
      "outputs": [
        {
          "output_type": "stream",
          "name": "stdout",
          "text": [
            "Minimum Balance 63.0\n",
            "Maximum Balance 2436615.81\n",
            "Mean Balance 804595.354984962\n"
          ]
        },
        {
          "output_type": "execute_result",
          "data": {
            "text/plain": [
              "[<matplotlib.lines.Line2D at 0x7f03ad4c6e50>]"
            ]
          },
          "metadata": {},
          "execution_count": 207
        },
        {
          "output_type": "display_data",
          "data": {
            "image/png": "[encoded data removed]",
            "text/plain": [
              "<Figure size 432x288 with 1 Axes>"
            ]
          },
          "metadata": {
            "needs_background": "light"
          }
        }
      ]
    },
    {
      "cell_type": "markdown",
      "source": [
        ""
      ],
      "metadata": {
        "id": "u5igZm4Sg046"
      }
    },
    {
      "cell_type": "code",
      "source": [
        "print(train['Balance'].value_counts())"
      ],
      "metadata": {
        "colab": {
          "base_uri": "https://localhost:8080/"
        },
        "id": "Q5kN8Lc6fXKd",
        "outputId": "dd705058-4962-4a50-ec2a-b51f7c17538f"
      },
      "execution_count": 208,
      "outputs": [
        {
          "output_type": "stream",
          "name": "stdout",
          "text": [
            "117549.00     2\n",
            "76122.00      2\n",
            "131121.00     2\n",
            "102123.00     2\n",
            "138825.00     2\n",
            "             ..\n",
            "289348.92     1\n",
            "1031298.48    1\n",
            "242901.27     1\n",
            "719339.85     1\n",
            "826947.27     1\n",
            "Name: Balance, Length: 6643, dtype: int64\n"
          ]
        }
      ]
    },
    {
      "cell_type": "markdown",
      "source": [
        "Vintage"
      ],
      "metadata": {
        "id": "lZdMtITJncKa"
      }
    },
    {
      "cell_type": "code",
      "source": [
        "print(train['Vintage'].value_counts())"
      ],
      "metadata": {
        "colab": {
          "base_uri": "https://localhost:8080/"
        },
        "id": "alxMMHfTgHzY",
        "outputId": "4273a2c4-04c7-4deb-cd1a-7f6e45d70604"
      },
      "execution_count": 209,
      "outputs": [
        {
          "output_type": "stream",
          "name": "stdout",
          "text": [
            "3    1405\n",
            "1    1354\n",
            "2    1328\n",
            "4    1296\n",
            "0     956\n",
            "5     311\n",
            "Name: Vintage, dtype: int64\n"
          ]
        }
      ]
    },
    {
      "cell_type": "markdown",
      "source": [
        "We can see that very few people are having bank account from 5 years , Majority are having account from 3 years"
      ],
      "metadata": {
        "id": "BCHiwgpynJIs"
      }
    },
    {
      "cell_type": "markdown",
      "source": [
        "FacetGrid : Vintage"
      ],
      "metadata": {
        "id": "cia-RsPOnyMO"
      }
    },
    {
      "cell_type": "code",
      "source": [
        "sns.FacetGrid(train,hue = 'Is_Churn',size = 7).map(sns.histplot,'Vintage').add_legend()"
      ],
      "metadata": {
        "colab": {
          "base_uri": "https://localhost:8080/",
          "height": 585
        },
        "id": "P_s92gisneAT",
        "outputId": "de677eef-24f0-46d3-d7d4-265d18d4f3b6"
      },
      "execution_count": 210,
      "outputs": [
        {
          "output_type": "stream",
          "name": "stderr",
          "text": [
            "/usr/local/lib/python3.7/dist-packages/seaborn/axisgrid.py:337: UserWarning: The `size` parameter has been renamed to `height`; please update your code.\n",
            "  warnings.warn(msg, UserWarning)\n"
          ]
        },
        {
          "output_type": "execute_result",
          "data": {
            "text/plain": [
              "<seaborn.axisgrid.FacetGrid at 0x7f03ae14bc90>"
            ]
          },
          "metadata": {},
          "execution_count": 210
        },
        {
          "output_type": "display_data",
          "data": {
            "image/png": "[encoded data removed]",
            "text/plain": [
              "<Figure size 555.125x504 with 1 Axes>"
            ]
          },
          "metadata": {
            "needs_background": "light"
          }
        }
      ]
    },
    {
      "cell_type": "markdown",
      "source": [
        "We can see that people with Vintage 1 and 3 are having highest Churn rate, 5 has low churn rate"
      ],
      "metadata": {
        "id": "JmDhekbjn4P7"
      }
    },
    {
      "cell_type": "markdown",
      "source": [
        "Grouping Vintage Based on Mean Churn "
      ],
      "metadata": {
        "id": "0WgkRuyYoLgp"
      }
    },
    {
      "cell_type": "code",
      "source": [
        "train[['Vintage','Is_Churn']].groupby(by = 'Vintage').mean()"
      ],
      "metadata": {
        "colab": {
          "base_uri": "https://localhost:8080/",
          "height": 269
        },
        "id": "1rkPGmuyoJ50",
        "outputId": "6bc1a1df-98de-4c9e-9a41-c5cf1976df57"
      },
      "execution_count": 211,
      "outputs": [
        {
          "output_type": "execute_result",
          "data": {
            "text/html": [
              "\n",
              "  <div id=\"df-43639da1-796f-4c44-b408-2c968395eb4f\">\n",
              "    <div class=\"colab-df-container\">\n",
              "      <div>\n",
              "<style scoped>\n",
              "    .dataframe tbody tr th:only-of-type {\n",
              "        vertical-align: middle;\n",
              "    }\n",
              "\n",
              "    .dataframe tbody tr th {\n",
              "        vertical-align: top;\n",
              "    }\n",
              "\n",
              "    .dataframe thead th {\n",
              "        text-align: right;\n",
              "    }\n",
              "</style>\n",
              "<table border=\"1\" class=\"dataframe\">\n",
              "  <thead>\n",
              "    <tr style=\"text-align: right;\">\n",
              "      <th></th>\n",
              "      <th>Is_Churn</th>\n",
              "    </tr>\n",
              "    <tr>\n",
              "      <th>Vintage</th>\n",
              "      <th></th>\n",
              "    </tr>\n",
              "  </thead>\n",
              "  <tbody>\n",
              "    <tr>\n",
              "      <th>0</th>\n",
              "      <td>0.210251</td>\n",
              "    </tr>\n",
              "    <tr>\n",
              "      <th>1</th>\n",
              "      <td>0.242245</td>\n",
              "    </tr>\n",
              "    <tr>\n",
              "      <th>2</th>\n",
              "      <td>0.207831</td>\n",
              "    </tr>\n",
              "    <tr>\n",
              "      <th>3</th>\n",
              "      <td>0.241281</td>\n",
              "    </tr>\n",
              "    <tr>\n",
              "      <th>4</th>\n",
              "      <td>0.247685</td>\n",
              "    </tr>\n",
              "    <tr>\n",
              "      <th>5</th>\n",
              "      <td>0.231511</td>\n",
              "    </tr>\n",
              "  </tbody>\n",
              "</table>\n",
              "</div>\n",
              "      <button class=\"colab-df-convert\" onclick=\"convertToInteractive('df-43639da1-796f-4c44-b408-2c968395eb4f')\"\n",
              "              title=\"Convert this dataframe to an interactive table.\"\n",
              "              style=\"display:none;\">\n",
              "        \n",
              "  <svg xmlns=\"http://www.w3.org/2000/svg\" height=\"24px\"viewBox=\"0 0 24 24\"\n",
              "       width=\"24px\">\n",
              "    <path d=\"M0 0h24v24H0V0z\" fill=\"none\"/>\n",
              "    <path d=\"M18.56 5.44l.94 2.06.94-2.06 2.06-.94-2.06-.94-.94-2.06-.94 2.06-2.06.94zm-11 1L8.5 8.5l.94-2.06 2.06-.94-2.06-.94L8.5 2.5l-.94 2.06-2.06.94zm10 10l.94 2.06.94-2.06 2.06-.94-2.06-.94-.94-2.06-.94 2.06-2.06.94z\"/><path d=\"M17.41 7.96l-1.37-1.37c-.4-.4-.92-.59-1.43-.59-.52 0-1.04.2-1.43.59L10.3 9.45l-7.72 7.72c-.78.78-.78 2.05 0 2.83L4 21.41c.39.39.9.59 1.41.59.51 0 1.02-.2 1.41-.59l7.78-7.78 2.81-2.81c.8-.78.8-2.07 0-2.86zM5.41 20L4 18.59l7.72-7.72 1.47 1.35L5.41 20z\"/>\n",
              "  </svg>\n",
              "      </button>\n",
              "      \n",
              "  <style>\n",
              "    .colab-df-container {\n",
              "      display:flex;\n",
              "      flex-wrap:wrap;\n",
              "      gap: 12px;\n",
              "    }\n",
              "\n",
              "    .colab-df-convert {\n",
              "      background-color: #E8F0FE;\n",
              "      border: none;\n",
              "      border-radius: 50%;\n",
              "      cursor: pointer;\n",
              "      display: none;\n",
              "      fill: #1967D2;\n",
              "      height: 32px;\n",
              "      padding: 0 0 0 0;\n",
              "      width: 32px;\n",
              "    }\n",
              "\n",
              "    .colab-df-convert:hover {\n",
              "      background-color: #E2EBFA;\n",
              "      box-shadow: 0px 1px 2px rgba(60, 64, 67, 0.3), 0px 1px 3px 1px rgba(60, 64, 67, 0.15);\n",
              "      fill: #174EA6;\n",
              "    }\n",
              "\n",
              "    [theme=dark] .colab-df-convert {\n",
              "      background-color: #3B4455;\n",
              "      fill: #D2E3FC;\n",
              "    }\n",
              "\n",
              "    [theme=dark] .colab-df-convert:hover {\n",
              "      background-color: #434B5C;\n",
              "      box-shadow: 0px 1px 3px 1px rgba(0, 0, 0, 0.15);\n",
              "      filter: drop-shadow(0px 1px 2px rgba(0, 0, 0, 0.3));\n",
              "      fill: #FFFFFF;\n",
              "    }\n",
              "  </style>\n",
              "\n",
              "      <script>\n",
              "        const buttonEl =\n",
              "          document.querySelector('#df-43639da1-796f-4c44-b408-2c968395eb4f button.colab-df-convert');\n",
              "        buttonEl.style.display =\n",
              "          google.colab.kernel.accessAllowed ? 'block' : 'none';\n",
              "\n",
              "        async function convertToInteractive(key) {\n",
              "          const element = document.querySelector('#df-43639da1-796f-4c44-b408-2c968395eb4f');\n",
              "          const dataTable =\n",
              "            await google.colab.kernel.invokeFunction('convertToInteractive',\n",
              "                                                     [key], {});\n",
              "          if (!dataTable) return;\n",
              "\n",
              "          const docLinkHtml = 'Like what you see? Visit the ' +\n",
              "            '<a target=\"_blank\" href=https://colab.research.google.com/notebooks/data_table.ipynb>data table notebook</a>'\n",
              "            + ' to learn more about interactive tables.';\n",
              "          element.innerHTML = '';\n",
              "          dataTable['output_type'] = 'display_data';\n",
              "          await google.colab.output.renderOutput(dataTable, element);\n",
              "          const docLink = document.createElement('div');\n",
              "          docLink.innerHTML = docLinkHtml;\n",
              "          element.appendChild(docLink);\n",
              "        }\n",
              "      </script>\n",
              "    </div>\n",
              "  </div>\n",
              "  "
            ],
            "text/plain": [
              "         Is_Churn\n",
              "Vintage          \n",
              "0        0.210251\n",
              "1        0.242245\n",
              "2        0.207831\n",
              "3        0.241281\n",
              "4        0.247685\n",
              "5        0.231511"
            ]
          },
          "metadata": {},
          "execution_count": 211
        }
      ]
    },
    {
      "cell_type": "markdown",
      "source": [
        "We can Concluded from above graph that Vintage 4 has highest 0:1 ratio , i e percentage of Churn is more in 4"
      ],
      "metadata": {
        "id": "EDxPwhiqolBe"
      }
    },
    {
      "cell_type": "markdown",
      "source": [
        "Transaction Status"
      ],
      "metadata": {
        "id": "yopEPFOwrS8O"
      }
    },
    {
      "cell_type": "code",
      "source": [
        "train['Transaction_Status'].value_counts()"
      ],
      "metadata": {
        "colab": {
          "base_uri": "https://localhost:8080/"
        },
        "id": "GXbBVOayrJrx",
        "outputId": "b5e7077e-e9bc-4a3a-fb0b-24833b1f7d13"
      },
      "execution_count": 212,
      "outputs": [
        {
          "output_type": "execute_result",
          "data": {
            "text/plain": [
              "1    3430\n",
              "0    3220\n",
              "Name: Transaction_Status, dtype: int64"
            ]
          },
          "metadata": {},
          "execution_count": 212
        }
      ]
    },
    {
      "cell_type": "markdown",
      "source": [
        "FacetGrid : Transaction_Status"
      ],
      "metadata": {
        "id": "wH1C2Da9rigj"
      }
    },
    {
      "cell_type": "code",
      "source": [
        "sns.FacetGrid(train,hue = 'Is_Churn', height = 5).map(sns.histplot,'Transaction_Status').add_legend()"
      ],
      "metadata": {
        "colab": {
          "base_uri": "https://localhost:8080/",
          "height": 386
        },
        "id": "aGPoc1axrdnf",
        "outputId": "59ab5eba-8df3-45b6-b1b4-36510e1ca3b3"
      },
      "execution_count": 213,
      "outputs": [
        {
          "output_type": "execute_result",
          "data": {
            "text/plain": [
              "<seaborn.axisgrid.FacetGrid at 0x7f03ae38b110>"
            ]
          },
          "metadata": {},
          "execution_count": 213
        },
        {
          "output_type": "display_data",
          "data": {
            "image/png": "[encoded data removed]",
            "text/plain": [
              "<Figure size 411.125x360 with 1 Axes>"
            ]
          },
          "metadata": {
            "needs_background": "light"
          }
        }
      ]
    },
    {
      "cell_type": "markdown",
      "source": [
        "Customer with no transaction from past 3 months are more likely to churn "
      ],
      "metadata": {
        "id": "22Qx5PRIr3qU"
      }
    },
    {
      "cell_type": "markdown",
      "source": [
        "Income & Transaction_Status"
      ],
      "metadata": {
        "id": "ybh2W5oRvJXG"
      }
    },
    {
      "cell_type": "code",
      "source": [
        "d = train['Income'][train['Transaction_Status']==0].value_counts()\n",
        "d.plot(label = 0)\n",
        "d = train['Income'][train['Transaction_Status']==1].value_counts()\n",
        "d.plot(label = 1)\n",
        "plt.legend()\n",
        "plt.title('Income v/s Transaction_Status')\n",
        "plt.xlabel('Income')\n",
        "plt.ylabel('Customers')\n",
        "plt.show()"
      ],
      "metadata": {
        "colab": {
          "base_uri": "https://localhost:8080/",
          "height": 295
        },
        "id": "vr_XM8gpsG0k",
        "outputId": "5747c8e5-825c-422b-efcf-571ff4ce2a5e"
      },
      "execution_count": 214,
      "outputs": [
        {
          "output_type": "display_data",
          "data": {
            "image/png": "[encoded data removed]",
            "text/plain": [
              "<Figure size 432x288 with 1 Axes>"
            ]
          },
          "metadata": {
            "needs_background": "light"
          }
        }
      ]
    },
    {
      "cell_type": "markdown",
      "source": [
        "1. We can see that customers with Income range 10L-15L are more likely to have made transaction in last 3 months"
      ],
      "metadata": {
        "id": "lav277vtuydG"
      }
    },
    {
      "cell_type": "code",
      "source": [
        "train.head()"
      ],
      "metadata": {
        "colab": {
          "base_uri": "https://localhost:8080/",
          "height": 206
        },
        "id": "Kld60QHgwMOc",
        "outputId": "08702397-2998-412e-fcea-bd86a7d61608"
      },
      "execution_count": 215,
      "outputs": [
        {
          "output_type": "execute_result",
          "data": {
            "text/html": [
              "\n",
              "  <div id=\"df-22700fbf-994f-4d17-8746-54cb14b2534f\">\n",
              "    <div class=\"colab-df-container\">\n",
              "      <div>\n",
              "<style scoped>\n",
              "    .dataframe tbody tr th:only-of-type {\n",
              "        vertical-align: middle;\n",
              "    }\n",
              "\n",
              "    .dataframe tbody tr th {\n",
              "        vertical-align: top;\n",
              "    }\n",
              "\n",
              "    .dataframe thead th {\n",
              "        text-align: right;\n",
              "    }\n",
              "</style>\n",
              "<table border=\"1\" class=\"dataframe\">\n",
              "  <thead>\n",
              "    <tr style=\"text-align: right;\">\n",
              "      <th></th>\n",
              "      <th>Age</th>\n",
              "      <th>Gender</th>\n",
              "      <th>Income</th>\n",
              "      <th>Balance</th>\n",
              "      <th>Vintage</th>\n",
              "      <th>Transaction_Status</th>\n",
              "      <th>Product_Holdings</th>\n",
              "      <th>Credit_Card</th>\n",
              "      <th>Credit_Category</th>\n",
              "      <th>Is_Churn</th>\n",
              "    </tr>\n",
              "  </thead>\n",
              "  <tbody>\n",
              "    <tr>\n",
              "      <th>0</th>\n",
              "      <td>36</td>\n",
              "      <td>Female</td>\n",
              "      <td>5L - 10L</td>\n",
              "      <td>563266.44</td>\n",
              "      <td>4</td>\n",
              "      <td>0</td>\n",
              "      <td>1</td>\n",
              "      <td>0</td>\n",
              "      <td>Average</td>\n",
              "      <td>1</td>\n",
              "    </tr>\n",
              "    <tr>\n",
              "      <th>1</th>\n",
              "      <td>53</td>\n",
              "      <td>Female</td>\n",
              "      <td>Less than 5L</td>\n",
              "      <td>875572.11</td>\n",
              "      <td>2</td>\n",
              "      <td>1</td>\n",
              "      <td>1</td>\n",
              "      <td>1</td>\n",
              "      <td>Poor</td>\n",
              "      <td>0</td>\n",
              "    </tr>\n",
              "    <tr>\n",
              "      <th>2</th>\n",
              "      <td>35</td>\n",
              "      <td>Female</td>\n",
              "      <td>More than 15L</td>\n",
              "      <td>701607.06</td>\n",
              "      <td>2</td>\n",
              "      <td>1</td>\n",
              "      <td>2</td>\n",
              "      <td>0</td>\n",
              "      <td>Poor</td>\n",
              "      <td>0</td>\n",
              "    </tr>\n",
              "    <tr>\n",
              "      <th>3</th>\n",
              "      <td>43</td>\n",
              "      <td>Female</td>\n",
              "      <td>More than 15L</td>\n",
              "      <td>1393922.16</td>\n",
              "      <td>0</td>\n",
              "      <td>1</td>\n",
              "      <td>2</td>\n",
              "      <td>1</td>\n",
              "      <td>Poor</td>\n",
              "      <td>1</td>\n",
              "    </tr>\n",
              "    <tr>\n",
              "      <th>4</th>\n",
              "      <td>39</td>\n",
              "      <td>Female</td>\n",
              "      <td>More than 15L</td>\n",
              "      <td>893146.23</td>\n",
              "      <td>1</td>\n",
              "      <td>1</td>\n",
              "      <td>1</td>\n",
              "      <td>1</td>\n",
              "      <td>Good</td>\n",
              "      <td>1</td>\n",
              "    </tr>\n",
              "  </tbody>\n",
              "</table>\n",
              "</div>\n",
              "      <button class=\"colab-df-convert\" onclick=\"convertToInteractive('df-22700fbf-994f-4d17-8746-54cb14b2534f')\"\n",
              "              title=\"Convert this dataframe to an interactive table.\"\n",
              "              style=\"display:none;\">\n",
              "        \n",
              "  <svg xmlns=\"http://www.w3.org/2000/svg\" height=\"24px\"viewBox=\"0 0 24 24\"\n",
              "       width=\"24px\">\n",
              "    <path d=\"M0 0h24v24H0V0z\" fill=\"none\"/>\n",
              "    <path d=\"M18.56 5.44l.94 2.06.94-2.06 2.06-.94-2.06-.94-.94-2.06-.94 2.06-2.06.94zm-11 1L8.5 8.5l.94-2.06 2.06-.94-2.06-.94L8.5 2.5l-.94 2.06-2.06.94zm10 10l.94 2.06.94-2.06 2.06-.94-2.06-.94-.94-2.06-.94 2.06-2.06.94z\"/><path d=\"M17.41 7.96l-1.37-1.37c-.4-.4-.92-.59-1.43-.59-.52 0-1.04.2-1.43.59L10.3 9.45l-7.72 7.72c-.78.78-.78 2.05 0 2.83L4 21.41c.39.39.9.59 1.41.59.51 0 1.02-.2 1.41-.59l7.78-7.78 2.81-2.81c.8-.78.8-2.07 0-2.86zM5.41 20L4 18.59l7.72-7.72 1.47 1.35L5.41 20z\"/>\n",
              "  </svg>\n",
              "      </button>\n",
              "      \n",
              "  <style>\n",
              "    .colab-df-container {\n",
              "      display:flex;\n",
              "      flex-wrap:wrap;\n",
              "      gap: 12px;\n",
              "    }\n",
              "\n",
              "    .colab-df-convert {\n",
              "      background-color: #E8F0FE;\n",
              "      border: none;\n",
              "      border-radius: 50%;\n",
              "      cursor: pointer;\n",
              "      display: none;\n",
              "      fill: #1967D2;\n",
              "      height: 32px;\n",
              "      padding: 0 0 0 0;\n",
              "      width: 32px;\n",
              "    }\n",
              "\n",
              "    .colab-df-convert:hover {\n",
              "      background-color: #E2EBFA;\n",
              "      box-shadow: 0px 1px 2px rgba(60, 64, 67, 0.3), 0px 1px 3px 1px rgba(60, 64, 67, 0.15);\n",
              "      fill: #174EA6;\n",
              "    }\n",
              "\n",
              "    [theme=dark] .colab-df-convert {\n",
              "      background-color: #3B4455;\n",
              "      fill: #D2E3FC;\n",
              "    }\n",
              "\n",
              "    [theme=dark] .colab-df-convert:hover {\n",
              "      background-color: #434B5C;\n",
              "      box-shadow: 0px 1px 3px 1px rgba(0, 0, 0, 0.15);\n",
              "      filter: drop-shadow(0px 1px 2px rgba(0, 0, 0, 0.3));\n",
              "      fill: #FFFFFF;\n",
              "    }\n",
              "  </style>\n",
              "\n",
              "      <script>\n",
              "        const buttonEl =\n",
              "          document.querySelector('#df-22700fbf-994f-4d17-8746-54cb14b2534f button.colab-df-convert');\n",
              "        buttonEl.style.display =\n",
              "          google.colab.kernel.accessAllowed ? 'block' : 'none';\n",
              "\n",
              "        async function convertToInteractive(key) {\n",
              "          const element = document.querySelector('#df-22700fbf-994f-4d17-8746-54cb14b2534f');\n",
              "          const dataTable =\n",
              "            await google.colab.kernel.invokeFunction('convertToInteractive',\n",
              "                                                     [key], {});\n",
              "          if (!dataTable) return;\n",
              "\n",
              "          const docLinkHtml = 'Like what you see? Visit the ' +\n",
              "            '<a target=\"_blank\" href=https://colab.research.google.com/notebooks/data_table.ipynb>data table notebook</a>'\n",
              "            + ' to learn more about interactive tables.';\n",
              "          element.innerHTML = '';\n",
              "          dataTable['output_type'] = 'display_data';\n",
              "          await google.colab.output.renderOutput(dataTable, element);\n",
              "          const docLink = document.createElement('div');\n",
              "          docLink.innerHTML = docLinkHtml;\n",
              "          element.appendChild(docLink);\n",
              "        }\n",
              "      </script>\n",
              "    </div>\n",
              "  </div>\n",
              "  "
            ],
            "text/plain": [
              "   Age  Gender         Income     Balance  Vintage  Transaction_Status  \\\n",
              "0   36  Female       5L - 10L   563266.44        4                   0   \n",
              "1   53  Female   Less than 5L   875572.11        2                   1   \n",
              "2   35  Female  More than 15L   701607.06        2                   1   \n",
              "3   43  Female  More than 15L  1393922.16        0                   1   \n",
              "4   39  Female  More than 15L   893146.23        1                   1   \n",
              "\n",
              "  Product_Holdings  Credit_Card Credit_Category  Is_Churn  \n",
              "0                1            0         Average         1  \n",
              "1                1            1            Poor         0  \n",
              "2                2            0            Poor         0  \n",
              "3                2            1            Poor         1  \n",
              "4                1            1            Good         1  "
            ]
          },
          "metadata": {},
          "execution_count": 215
        }
      ]
    },
    {
      "cell_type": "markdown",
      "source": [
        "Product_Holdings"
      ],
      "metadata": {
        "id": "VGJwdfY0wJmJ"
      }
    },
    {
      "cell_type": "code",
      "source": [
        "d = train['Product_Holdings'][train['Transaction_Status']==0].value_counts()\n",
        "d.plot(label = 0)\n",
        "d = train['Product_Holdings'][train['Transaction_Status']==1].value_counts()\n",
        "d.plot(label = 1)\n",
        "plt.legend()\n",
        "plt.title('Product_Holdings v/s Transaction_Status')\n",
        "plt.xlabel('Product_Holdings')\n",
        "plt.ylabel('Customers')\n",
        "plt.show()"
      ],
      "metadata": {
        "colab": {
          "base_uri": "https://localhost:8080/",
          "height": 296
        },
        "id": "1HxbpX3WvRlX",
        "outputId": "acfee8ba-19eb-4626-fdba-de079ceb2b26"
      },
      "execution_count": 216,
      "outputs": [
        {
          "output_type": "display_data",
          "data": {
            "image/png": "[encoded data removed]",
            "text/plain": [
              "<Figure size 432x288 with 1 Axes>"
            ]
          },
          "metadata": {
            "needs_background": "light"
          }
        }
      ]
    },
    {
      "cell_type": "markdown",
      "source": [
        "1. we can see that both Transaction_Status 1 and 0 are having similar pattern\n",
        "2. Most of the Customers are having 2 product holdings\n",
        "3. Very few are having 3+ product holdings"
      ],
      "metadata": {
        "id": "wkn-ss6rwRM7"
      }
    },
    {
      "cell_type": "markdown",
      "source": [
        "FacetGrid: Product_Holdings"
      ],
      "metadata": {
        "id": "VJX1o5kBzbHc"
      }
    },
    {
      "cell_type": "code",
      "source": [
        "sns.FacetGrid(train,hue='Is_Churn',height=5).map(sns.histplot,'Product_Holdings').add_legend()"
      ],
      "metadata": {
        "colab": {
          "base_uri": "https://localhost:8080/",
          "height": 386
        },
        "id": "AEu6qx9nwQ7y",
        "outputId": "9e8888b9-3b77-4475-9cf3-62b2448dd284"
      },
      "execution_count": 217,
      "outputs": [
        {
          "output_type": "execute_result",
          "data": {
            "text/plain": [
              "<seaborn.axisgrid.FacetGrid at 0x7f03ae827510>"
            ]
          },
          "metadata": {},
          "execution_count": 217
        },
        {
          "output_type": "display_data",
          "data": {
            "image/png": "[encoded data removed]",
            "text/plain": [
              "<Figure size 411.125x360 with 1 Axes>"
            ]
          },
          "metadata": {
            "needs_background": "light"
          }
        }
      ]
    },
    {
      "cell_type": "markdown",
      "source": [
        "1. Customer with 1 product_holdings are more likely to have churn = 1"
      ],
      "metadata": {
        "id": "po-YcUizw38i"
      }
    },
    {
      "cell_type": "markdown",
      "source": [
        "FacetGrid : product_holdings vs balance"
      ],
      "metadata": {
        "id": "wHbFTi5Lze2c"
      }
    },
    {
      "cell_type": "code",
      "source": [
        "sns.FacetGrid(train,hue='Product_Holdings',height=5).map(sns.histplot,'Balance').add_legend()"
      ],
      "metadata": {
        "colab": {
          "base_uri": "https://localhost:8080/",
          "height": 386
        },
        "id": "wXMuw7G8xHFy",
        "outputId": "7337262a-cc1c-4b34-9447-42671f57d891"
      },
      "execution_count": 218,
      "outputs": [
        {
          "output_type": "execute_result",
          "data": {
            "text/plain": [
              "<seaborn.axisgrid.FacetGrid at 0x7f03ae73a510>"
            ]
          },
          "metadata": {},
          "execution_count": 218
        },
        {
          "output_type": "display_data",
          "data": {
            "image/png": "[encoded data removed]",
            "text/plain": [
              "<Figure size 454.5x360 with 1 Axes>"
            ]
          },
          "metadata": {
            "needs_background": "light"
          }
        }
      ]
    },
    {
      "cell_type": "markdown",
      "source": [
        "1. Customers with less Balance are having 2 product Holdings\n",
        "2. Customers with more Balance are having 1 Product Holdings\n"
      ],
      "metadata": {
        "id": "djjlf3TRIrlC"
      }
    },
    {
      "cell_type": "markdown",
      "source": [
        "Credit card"
      ],
      "metadata": {
        "id": "xwAb9ioKzFp6"
      }
    },
    {
      "cell_type": "code",
      "source": [
        "train['Credit_Card'].value_counts()"
      ],
      "metadata": {
        "colab": {
          "base_uri": "https://localhost:8080/"
        },
        "id": "M5B48lRgzFB-",
        "outputId": "c18eefaf-3c9f-49ff-dea9-5a16bad9ca67"
      },
      "execution_count": 219,
      "outputs": [
        {
          "output_type": "execute_result",
          "data": {
            "text/plain": [
              "1    4418\n",
              "0    2232\n",
              "Name: Credit_Card, dtype: int64"
            ]
          },
          "metadata": {},
          "execution_count": 219
        }
      ]
    },
    {
      "cell_type": "markdown",
      "source": [
        "Many people are having credit card"
      ],
      "metadata": {
        "id": "d9OgFs2WzODR"
      }
    },
    {
      "cell_type": "markdown",
      "source": [
        "Credit_card vs Is_Churn"
      ],
      "metadata": {
        "id": "P-aJ6QiozlT2"
      }
    },
    {
      "cell_type": "code",
      "source": [
        "sns.FacetGrid(train,hue='Is_Churn',height=5).map(sns.histplot,'Credit_Card').add_legend()"
      ],
      "metadata": {
        "colab": {
          "base_uri": "https://localhost:8080/",
          "height": 386
        },
        "id": "cjOfra19zSM6",
        "outputId": "2f37294f-36a0-4de3-c60b-1d8c24b2996c"
      },
      "execution_count": 220,
      "outputs": [
        {
          "output_type": "execute_result",
          "data": {
            "text/plain": [
              "<seaborn.axisgrid.FacetGrid at 0x7f03acfb4710>"
            ]
          },
          "metadata": {},
          "execution_count": 220
        },
        {
          "output_type": "display_data",
          "data": {
            "image/png": "[encoded data removed]",
            "text/plain": [
              "<Figure size 411.125x360 with 1 Axes>"
            ]
          },
          "metadata": {
            "needs_background": "light"
          }
        }
      ]
    },
    {
      "cell_type": "markdown",
      "source": [
        "Credit card vs Income"
      ],
      "metadata": {
        "id": "iBRXB2IhGi97"
      }
    },
    {
      "cell_type": "code",
      "source": [
        "sns.FacetGrid(train[['Credit_Card','Income']][train['Credit_Card']==1],hue='Credit_Card',height=5).map(sns.histplot,'Income').add_legend()"
      ],
      "metadata": {
        "colab": {
          "base_uri": "https://localhost:8080/",
          "height": 386
        },
        "id": "6PyU11eBGiZm",
        "outputId": "3486a999-d58e-4c35-8157-8705bb88e082"
      },
      "execution_count": 221,
      "outputs": [
        {
          "output_type": "execute_result",
          "data": {
            "text/plain": [
              "<seaborn.axisgrid.FacetGrid at 0x7f03acf53fd0>"
            ]
          },
          "metadata": {},
          "execution_count": 221
        },
        {
          "output_type": "display_data",
          "data": {
            "image/png": "[encoded data removed]",
            "text/plain": [
              "<Figure size 426.375x360 with 1 Axes>"
            ]
          },
          "metadata": {
            "needs_background": "light"
          }
        }
      ]
    },
    {
      "cell_type": "markdown",
      "source": [
        "1. Customers with income in the range 5L-10L are more likely to have a credit card\n",
        "2. Customers with income more than 15L are less likely to have a credit card \n"
      ],
      "metadata": {
        "id": "3LyDv-MTJlEo"
      }
    },
    {
      "cell_type": "markdown",
      "source": [
        "Credit Card vs Balance"
      ],
      "metadata": {
        "id": "kReoy3OVJWhc"
      }
    },
    {
      "cell_type": "code",
      "source": [
        "sns.FacetGrid(train[['Credit_Card','Balance']][train['Credit_Card']==1],hue='Credit_Card',height=5).map(sns.histplot,'Balance').add_legend()"
      ],
      "metadata": {
        "colab": {
          "base_uri": "https://localhost:8080/",
          "height": 386
        },
        "id": "Tu5ixUxnJU8a",
        "outputId": "c221287a-bef2-4729-de69-9c0be01b9239"
      },
      "execution_count": 222,
      "outputs": [
        {
          "output_type": "execute_result",
          "data": {
            "text/plain": [
              "<seaborn.axisgrid.FacetGrid at 0x7f03aceb83d0>"
            ]
          },
          "metadata": {},
          "execution_count": 222
        },
        {
          "output_type": "display_data",
          "data": {
            "image/png": "[encoded data removed]",
            "text/plain": [
              "<Figure size 426.375x360 with 1 Axes>"
            ]
          },
          "metadata": {
            "needs_background": "light"
          }
        }
      ]
    },
    {
      "cell_type": "markdown",
      "source": [
        "1. Customers with less Balance are more likely to use Credit_card"
      ],
      "metadata": {
        "id": "IozOQOYaJm1B"
      }
    },
    {
      "cell_type": "markdown",
      "source": [
        "Credit_score"
      ],
      "metadata": {
        "id": "9URdcEDCKA9F"
      }
    },
    {
      "cell_type": "code",
      "source": [
        "train['Credit_Category'].value_counts()"
      ],
      "metadata": {
        "colab": {
          "base_uri": "https://localhost:8080/"
        },
        "id": "75Ko_TMGKCzo",
        "outputId": "b61e4298-775b-4c57-b131-3dd9e83fc94b"
      },
      "execution_count": 223,
      "outputs": [
        {
          "output_type": "execute_result",
          "data": {
            "text/plain": [
              "Poor       3076\n",
              "Average    2043\n",
              "Good       1531\n",
              "Name: Credit_Category, dtype: int64"
            ]
          },
          "metadata": {},
          "execution_count": 223
        }
      ]
    },
    {
      "cell_type": "markdown",
      "source": [
        "Most customers are having Poor Credit score"
      ],
      "metadata": {
        "id": "vaxmtuJuKyXb"
      }
    },
    {
      "cell_type": "markdown",
      "source": [
        "Credit_Category vs is_churned"
      ],
      "metadata": {
        "id": "gTynZlL5MlIF"
      }
    },
    {
      "cell_type": "code",
      "source": [
        "sns.FacetGrid(train,hue='Is_Churn',height=5).map(sns.histplot,'Credit_Category').add_legend()"
      ],
      "metadata": {
        "colab": {
          "base_uri": "https://localhost:8080/",
          "height": 386
        },
        "id": "EnCd5f6HMLvV",
        "outputId": "2d1752a5-848f-4576-db6d-5527ed676bb8"
      },
      "execution_count": 224,
      "outputs": [
        {
          "output_type": "execute_result",
          "data": {
            "text/plain": [
              "<seaborn.axisgrid.FacetGrid at 0x7f03acdb2cd0>"
            ]
          },
          "metadata": {},
          "execution_count": 224
        },
        {
          "output_type": "display_data",
          "data": {
            "image/png": "[encoded data removed]",
            "text/plain": [
              "<Figure size 411.125x360 with 1 Axes>"
            ]
          },
          "metadata": {
            "needs_background": "light"
          }
        }
      ]
    },
    {
      "cell_type": "markdown",
      "source": [
        "People with Poor Category are more likely to churn "
      ],
      "metadata": {
        "id": "0t1-x_kbNSha"
      }
    },
    {
      "cell_type": "code",
      "source": [
        "d = train[['Balance','Credit_Category']][train['Credit_Category']=='Poor']"
      ],
      "metadata": {
        "id": "TSHwnQtyN8cz"
      },
      "execution_count": 225,
      "outputs": []
    },
    {
      "cell_type": "code",
      "source": [
        "sns.FacetGrid(d,hue='Credit_Category',height=5).map(sns.histplot,'Balance').add_legend()"
      ],
      "metadata": {
        "colab": {
          "base_uri": "https://localhost:8080/",
          "height": 386
        },
        "id": "wZ9awVjcPtcL",
        "outputId": "1492c564-2771-428a-e846-6306561eef20"
      },
      "execution_count": 226,
      "outputs": [
        {
          "output_type": "execute_result",
          "data": {
            "text/plain": [
              "<seaborn.axisgrid.FacetGrid at 0x7f03acd1c050>"
            ]
          },
          "metadata": {},
          "execution_count": 226
        },
        {
          "output_type": "display_data",
          "data": {
            "image/png": "[encoded data removed]",
            "text/plain": [
              "<Figure size 448.375x360 with 1 Axes>"
            ]
          },
          "metadata": {
            "needs_background": "light"
          }
        }
      ]
    },
    {
      "cell_type": "code",
      "source": [
        "target = train['Is_Churn']\n",
        "#train = train.drop(labels=['Is_Churn'],axis = 1,inplace = True)"
      ],
      "metadata": {
        "id": "t2TYqAQwkqKh"
      },
      "execution_count": 227,
      "outputs": []
    },
    {
      "cell_type": "code",
      "source": [
        "train.head()"
      ],
      "metadata": {
        "colab": {
          "base_uri": "https://localhost:8080/",
          "height": 206
        },
        "id": "fJoyldQiwjRJ",
        "outputId": "386cf57a-4bab-4b45-c10d-625cebdaddf5"
      },
      "execution_count": 228,
      "outputs": [
        {
          "output_type": "execute_result",
          "data": {
            "text/html": [
              "\n",
              "  <div id=\"df-425356c1-0473-4eea-8029-0a2cfea85df4\">\n",
              "    <div class=\"colab-df-container\">\n",
              "      <div>\n",
              "<style scoped>\n",
              "    .dataframe tbody tr th:only-of-type {\n",
              "        vertical-align: middle;\n",
              "    }\n",
              "\n",
              "    .dataframe tbody tr th {\n",
              "        vertical-align: top;\n",
              "    }\n",
              "\n",
              "    .dataframe thead th {\n",
              "        text-align: right;\n",
              "    }\n",
              "</style>\n",
              "<table border=\"1\" class=\"dataframe\">\n",
              "  <thead>\n",
              "    <tr style=\"text-align: right;\">\n",
              "      <th></th>\n",
              "      <th>Age</th>\n",
              "      <th>Gender</th>\n",
              "      <th>Income</th>\n",
              "      <th>Balance</th>\n",
              "      <th>Vintage</th>\n",
              "      <th>Transaction_Status</th>\n",
              "      <th>Product_Holdings</th>\n",
              "      <th>Credit_Card</th>\n",
              "      <th>Credit_Category</th>\n",
              "      <th>Is_Churn</th>\n",
              "    </tr>\n",
              "  </thead>\n",
              "  <tbody>\n",
              "    <tr>\n",
              "      <th>0</th>\n",
              "      <td>36</td>\n",
              "      <td>Female</td>\n",
              "      <td>5L - 10L</td>\n",
              "      <td>563266.44</td>\n",
              "      <td>4</td>\n",
              "      <td>0</td>\n",
              "      <td>1</td>\n",
              "      <td>0</td>\n",
              "      <td>Average</td>\n",
              "      <td>1</td>\n",
              "    </tr>\n",
              "    <tr>\n",
              "      <th>1</th>\n",
              "      <td>53</td>\n",
              "      <td>Female</td>\n",
              "      <td>Less than 5L</td>\n",
              "      <td>875572.11</td>\n",
              "      <td>2</td>\n",
              "      <td>1</td>\n",
              "      <td>1</td>\n",
              "      <td>1</td>\n",
              "      <td>Poor</td>\n",
              "      <td>0</td>\n",
              "    </tr>\n",
              "    <tr>\n",
              "      <th>2</th>\n",
              "      <td>35</td>\n",
              "      <td>Female</td>\n",
              "      <td>More than 15L</td>\n",
              "      <td>701607.06</td>\n",
              "      <td>2</td>\n",
              "      <td>1</td>\n",
              "      <td>2</td>\n",
              "      <td>0</td>\n",
              "      <td>Poor</td>\n",
              "      <td>0</td>\n",
              "    </tr>\n",
              "    <tr>\n",
              "      <th>3</th>\n",
              "      <td>43</td>\n",
              "      <td>Female</td>\n",
              "      <td>More than 15L</td>\n",
              "      <td>1393922.16</td>\n",
              "      <td>0</td>\n",
              "      <td>1</td>\n",
              "      <td>2</td>\n",
              "      <td>1</td>\n",
              "      <td>Poor</td>\n",
              "      <td>1</td>\n",
              "    </tr>\n",
              "    <tr>\n",
              "      <th>4</th>\n",
              "      <td>39</td>\n",
              "      <td>Female</td>\n",
              "      <td>More than 15L</td>\n",
              "      <td>893146.23</td>\n",
              "      <td>1</td>\n",
              "      <td>1</td>\n",
              "      <td>1</td>\n",
              "      <td>1</td>\n",
              "      <td>Good</td>\n",
              "      <td>1</td>\n",
              "    </tr>\n",
              "  </tbody>\n",
              "</table>\n",
              "</div>\n",
              "      <button class=\"colab-df-convert\" onclick=\"convertToInteractive('df-425356c1-0473-4eea-8029-0a2cfea85df4')\"\n",
              "              title=\"Convert this dataframe to an interactive table.\"\n",
              "              style=\"display:none;\">\n",
              "        \n",
              "  <svg xmlns=\"http://www.w3.org/2000/svg\" height=\"24px\"viewBox=\"0 0 24 24\"\n",
              "       width=\"24px\">\n",
              "    <path d=\"M0 0h24v24H0V0z\" fill=\"none\"/>\n",
              "    <path d=\"M18.56 5.44l.94 2.06.94-2.06 2.06-.94-2.06-.94-.94-2.06-.94 2.06-2.06.94zm-11 1L8.5 8.5l.94-2.06 2.06-.94-2.06-.94L8.5 2.5l-.94 2.06-2.06.94zm10 10l.94 2.06.94-2.06 2.06-.94-2.06-.94-.94-2.06-.94 2.06-2.06.94z\"/><path d=\"M17.41 7.96l-1.37-1.37c-.4-.4-.92-.59-1.43-.59-.52 0-1.04.2-1.43.59L10.3 9.45l-7.72 7.72c-.78.78-.78 2.05 0 2.83L4 21.41c.39.39.9.59 1.41.59.51 0 1.02-.2 1.41-.59l7.78-7.78 2.81-2.81c.8-.78.8-2.07 0-2.86zM5.41 20L4 18.59l7.72-7.72 1.47 1.35L5.41 20z\"/>\n",
              "  </svg>\n",
              "      </button>\n",
              "      \n",
              "  <style>\n",
              "    .colab-df-container {\n",
              "      display:flex;\n",
              "      flex-wrap:wrap;\n",
              "      gap: 12px;\n",
              "    }\n",
              "\n",
              "    .colab-df-convert {\n",
              "      background-color: #E8F0FE;\n",
              "      border: none;\n",
              "      border-radius: 50%;\n",
              "      cursor: pointer;\n",
              "      display: none;\n",
              "      fill: #1967D2;\n",
              "      height: 32px;\n",
              "      padding: 0 0 0 0;\n",
              "      width: 32px;\n",
              "    }\n",
              "\n",
              "    .colab-df-convert:hover {\n",
              "      background-color: #E2EBFA;\n",
              "      box-shadow: 0px 1px 2px rgba(60, 64, 67, 0.3), 0px 1px 3px 1px rgba(60, 64, 67, 0.15);\n",
              "      fill: #174EA6;\n",
              "    }\n",
              "\n",
              "    [theme=dark] .colab-df-convert {\n",
              "      background-color: #3B4455;\n",
              "      fill: #D2E3FC;\n",
              "    }\n",
              "\n",
              "    [theme=dark] .colab-df-convert:hover {\n",
              "      background-color: #434B5C;\n",
              "      box-shadow: 0px 1px 3px 1px rgba(0, 0, 0, 0.15);\n",
              "      filter: drop-shadow(0px 1px 2px rgba(0, 0, 0, 0.3));\n",
              "      fill: #FFFFFF;\n",
              "    }\n",
              "  </style>\n",
              "\n",
              "      <script>\n",
              "        const buttonEl =\n",
              "          document.querySelector('#df-425356c1-0473-4eea-8029-0a2cfea85df4 button.colab-df-convert');\n",
              "        buttonEl.style.display =\n",
              "          google.colab.kernel.accessAllowed ? 'block' : 'none';\n",
              "\n",
              "        async function convertToInteractive(key) {\n",
              "          const element = document.querySelector('#df-425356c1-0473-4eea-8029-0a2cfea85df4');\n",
              "          const dataTable =\n",
              "            await google.colab.kernel.invokeFunction('convertToInteractive',\n",
              "                                                     [key], {});\n",
              "          if (!dataTable) return;\n",
              "\n",
              "          const docLinkHtml = 'Like what you see? Visit the ' +\n",
              "            '<a target=\"_blank\" href=https://colab.research.google.com/notebooks/data_table.ipynb>data table notebook</a>'\n",
              "            + ' to learn more about interactive tables.';\n",
              "          element.innerHTML = '';\n",
              "          dataTable['output_type'] = 'display_data';\n",
              "          await google.colab.output.renderOutput(dataTable, element);\n",
              "          const docLink = document.createElement('div');\n",
              "          docLink.innerHTML = docLinkHtml;\n",
              "          element.appendChild(docLink);\n",
              "        }\n",
              "      </script>\n",
              "    </div>\n",
              "  </div>\n",
              "  "
            ],
            "text/plain": [
              "   Age  Gender         Income     Balance  Vintage  Transaction_Status  \\\n",
              "0   36  Female       5L - 10L   563266.44        4                   0   \n",
              "1   53  Female   Less than 5L   875572.11        2                   1   \n",
              "2   35  Female  More than 15L   701607.06        2                   1   \n",
              "3   43  Female  More than 15L  1393922.16        0                   1   \n",
              "4   39  Female  More than 15L   893146.23        1                   1   \n",
              "\n",
              "  Product_Holdings  Credit_Card Credit_Category  Is_Churn  \n",
              "0                1            0         Average         1  \n",
              "1                1            1            Poor         0  \n",
              "2                2            0            Poor         0  \n",
              "3                2            1            Poor         1  \n",
              "4                1            1            Good         1  "
            ]
          },
          "metadata": {},
          "execution_count": 228
        }
      ]
    },
    {
      "cell_type": "code",
      "source": [
        "train = train.iloc[:,:-1]"
      ],
      "metadata": {
        "id": "-CZGb8kew4ZT"
      },
      "execution_count": 229,
      "outputs": []
    },
    {
      "cell_type": "code",
      "source": [
        "print(train.shape,len(target))\n",
        "print(test.shape)"
      ],
      "metadata": {
        "colab": {
          "base_uri": "https://localhost:8080/"
        },
        "id": "YVWPGMgbwbjy",
        "outputId": "6a6beff7-9a33-463a-f95e-897fee7f15d9"
      },
      "execution_count": 230,
      "outputs": [
        {
          "output_type": "stream",
          "name": "stdout",
          "text": [
            "(6650, 9) 6650\n",
            "(2851, 9)\n"
          ]
        }
      ]
    },
    {
      "cell_type": "markdown",
      "source": [
        "###Feature Transformation"
      ],
      "metadata": {
        "id": "F09X6jGHAY0Y"
      }
    },
    {
      "cell_type": "markdown",
      "source": [
        "Categorizing gender feature"
      ],
      "metadata": {
        "id": "blWpUxUWAf7u"
      }
    },
    {
      "cell_type": "markdown",
      "source": [
        "Gender"
      ],
      "metadata": {
        "id": "DV6lSsTGBGR2"
      }
    },
    {
      "cell_type": "markdown",
      "source": [
        "train"
      ],
      "metadata": {
        "id": "VPRZvEL9FsJU"
      }
    },
    {
      "cell_type": "code",
      "source": [
        "for i in range(len(train)):\n",
        "  if train.loc[i,'Gender'] == 'Male':\n",
        "    train.loc[i,'Gender'] = 1\n",
        "  else :\n",
        "    train.loc[i,'Gender'] = 0"
      ],
      "metadata": {
        "id": "AN3tXTMJAa5P"
      },
      "execution_count": 232,
      "outputs": []
    },
    {
      "cell_type": "code",
      "source": [
        "train.loc[:,'Gender'].value_counts()"
      ],
      "metadata": {
        "colab": {
          "base_uri": "https://localhost:8080/"
        },
        "id": "7QrhcTK8BQt_",
        "outputId": "40e97b64-dfe6-479b-9224-d3157a2a9904"
      },
      "execution_count": 233,
      "outputs": [
        {
          "output_type": "execute_result",
          "data": {
            "text/plain": [
              "1    3612\n",
              "0    3038\n",
              "Name: Gender, dtype: int64"
            ]
          },
          "metadata": {},
          "execution_count": 233
        }
      ]
    },
    {
      "cell_type": "markdown",
      "source": [
        "test"
      ],
      "metadata": {
        "id": "jh_rUikKFvqV"
      }
    },
    {
      "cell_type": "code",
      "source": [
        "for i in range(len(test)):\n",
        "  if test.loc[i,'Gender'] == 'Male':\n",
        "    test.loc[i,'Gender'] = 1\n",
        "  else :\n",
        "    test.loc[i,'Gender'] = 0"
      ],
      "metadata": {
        "id": "YJZB5lXtFw8j"
      },
      "execution_count": 245,
      "outputs": []
    },
    {
      "cell_type": "code",
      "source": [
        "test['Gender'].value_counts()"
      ],
      "metadata": {
        "colab": {
          "base_uri": "https://localhost:8080/"
        },
        "id": "ZFIZ-d2GF9A8",
        "outputId": "6b1fdf14-6640-405b-fb1c-449d8a2dadf9"
      },
      "execution_count": 247,
      "outputs": [
        {
          "output_type": "execute_result",
          "data": {
            "text/plain": [
              "1    1545\n",
              "0    1306\n",
              "Name: Gender, dtype: int64"
            ]
          },
          "metadata": {},
          "execution_count": 247
        }
      ]
    },
    {
      "cell_type": "markdown",
      "source": [
        "Income"
      ],
      "metadata": {
        "id": "9HGdZ0WpDtHY"
      }
    },
    {
      "cell_type": "markdown",
      "source": [
        "train"
      ],
      "metadata": {
        "id": "55DiRx1ZGCL_"
      }
    },
    {
      "cell_type": "code",
      "source": [
        "for i in range(len(train)):\n",
        "  if train.loc[i,'Income'] == 'Less than 5L':\n",
        "    train.loc[i,'Income'] = 0\n",
        "  elif train.loc[i,'Income'] == 'More than 15L':\n",
        "    train.loc[i,'Income'] = 3\n",
        "  elif train.loc[i,'Income'] == '5L - 10L':\n",
        "    train.loc[i,'Income'] = 1\n",
        "  elif train.loc[i,'Income'] == '10L - 15L':\n",
        "    train.loc[i,'Income'] = 2"
      ],
      "metadata": {
        "id": "J2Bi3QsSBFeF"
      },
      "execution_count": 234,
      "outputs": []
    },
    {
      "cell_type": "code",
      "source": [
        "train['Income'].value_counts()"
      ],
      "metadata": {
        "colab": {
          "base_uri": "https://localhost:8080/"
        },
        "id": "Civ40MjyBCd_",
        "outputId": "93106a89-ed69-4dc8-b66a-afc3662c4b07"
      },
      "execution_count": 235,
      "outputs": [
        {
          "output_type": "execute_result",
          "data": {
            "text/plain": [
              "2    1885\n",
              "1    1847\n",
              "0    1573\n",
              "3    1345\n",
              "Name: Income, dtype: int64"
            ]
          },
          "metadata": {},
          "execution_count": 235
        }
      ]
    },
    {
      "cell_type": "markdown",
      "source": [
        "test"
      ],
      "metadata": {
        "id": "jAmFEf_UGEBE"
      }
    },
    {
      "cell_type": "code",
      "source": [
        "for i in range(len(test)):\n",
        "  if test.loc[i,'Income'] == 'Less than 5L':\n",
        "    test.loc[i,'Income'] = 0\n",
        "  elif test.loc[i,'Income'] == 'More than 15L':\n",
        "    test.loc[i,'Income'] = 3\n",
        "  elif test.loc[i,'Income'] == '5L - 10L':\n",
        "    test.loc[i,'Income'] = 1\n",
        "  elif test.loc[i,'Income'] == '10L - 15L':\n",
        "    test.loc[i,'Income'] = 2\n",
        "test['Income'].value_counts()"
      ],
      "metadata": {
        "colab": {
          "base_uri": "https://localhost:8080/"
        },
        "id": "pcojmWMiGE3h",
        "outputId": "3159c3ed-1ee5-4591-c8c2-c5c3ef808d77"
      },
      "execution_count": 248,
      "outputs": [
        {
          "output_type": "execute_result",
          "data": {
            "text/plain": [
              "2    844\n",
              "1    794\n",
              "0    648\n",
              "3    565\n",
              "Name: Income, dtype: int64"
            ]
          },
          "metadata": {},
          "execution_count": 248
        }
      ]
    },
    {
      "cell_type": "markdown",
      "source": [
        "Product_Holdings"
      ],
      "metadata": {
        "id": "foZcZ08OHq5E"
      }
    },
    {
      "cell_type": "code",
      "source": [
        "for i in range(len(train)):\n",
        "  if train.loc[i,'Product_Holdings'] =='3+':\n",
        "    train.loc[i,'Product_Holdings'] = 3\n",
        "  if train.loc[i,'Product_Holdings'] =='1':\n",
        "    train.loc[i,'Product_Holdings'] = 1\n",
        "  if train.loc[i,'Product_Holdings'] =='2':\n",
        "    train.loc[i,'Product_Holdings'] = 2\n",
        "for i in range(len(test)):\n",
        "  if test.loc[i,'Product_Holdings'] =='3+':\n",
        "    test.loc[i,'Product_Holdings'] = 3\n",
        "  if test.loc[i,'Product_Holdings'] =='1':\n",
        "    test.loc[i,'Product_Holdings'] = 1\n",
        "  if test.loc[i,'Product_Holdings'] =='2':\n",
        "    test.loc[i,'Product_Holdings'] = 2"
      ],
      "metadata": {
        "id": "DX-6nZItHtUB"
      },
      "execution_count": 265,
      "outputs": []
    },
    {
      "cell_type": "markdown",
      "source": [
        "Credit_Category"
      ],
      "metadata": {
        "id": "m8UbXqD_CnK2"
      }
    },
    {
      "cell_type": "markdown",
      "source": [
        "train"
      ],
      "metadata": {
        "id": "5zcyLH71GYJp"
      }
    },
    {
      "cell_type": "code",
      "source": [
        "for i in range(len(train)):\n",
        "  if train.loc[i,'Credit_Category'] == 'Poor':\n",
        "    train.loc[i,'Credit_Category'] = 0\n",
        "  elif train.loc[i,'Credit_Category'] == 'Average':\n",
        "    train.loc[i,'Credit_Category'] = 1\n",
        "  elif train.loc[i,'Credit_Category'] == 'Good':\n",
        "    train.loc[i,'Credit_Category'] = 2\n",
        "train['Credit_Category'].value_counts()"
      ],
      "metadata": {
        "colab": {
          "base_uri": "https://localhost:8080/"
        },
        "id": "_IlA3vuNCux4",
        "outputId": "af2537c0-cf42-477c-d610-df24ec19d603"
      },
      "execution_count": 249,
      "outputs": [
        {
          "output_type": "execute_result",
          "data": {
            "text/plain": [
              "0    3076\n",
              "1    2043\n",
              "2    1531\n",
              "Name: Credit_Category, dtype: int64"
            ]
          },
          "metadata": {},
          "execution_count": 249
        }
      ]
    },
    {
      "cell_type": "markdown",
      "source": [
        "test"
      ],
      "metadata": {
        "id": "0fgcGxdCGekw"
      }
    },
    {
      "cell_type": "code",
      "source": [
        "for i in range(len(test)):\n",
        "  if test.loc[i,'Credit_Category'] == 'Poor':\n",
        "    test.loc[i,'Credit_Category'] = 0\n",
        "  elif test.loc[i,'Credit_Category'] == 'Average':\n",
        "    test.loc[i,'Credit_Category'] = 1\n",
        "  elif test.loc[i,'Credit_Category'] == 'Good':\n",
        "    test.loc[i,'Credit_Category'] = 2\n",
        "test['Credit_Category'].value_counts()"
      ],
      "metadata": {
        "colab": {
          "base_uri": "https://localhost:8080/"
        },
        "id": "TsZ-I_qoGjxZ",
        "outputId": "e2f4dfeb-105b-4fea-8c4b-22a6cc3380a5"
      },
      "execution_count": 250,
      "outputs": [
        {
          "output_type": "execute_result",
          "data": {
            "text/plain": [
              "0    1270\n",
              "1     866\n",
              "2     715\n",
              "Name: Credit_Category, dtype: int64"
            ]
          },
          "metadata": {},
          "execution_count": 250
        }
      ]
    },
    {
      "cell_type": "markdown",
      "source": [
        "Balance Min Max Scaling"
      ],
      "metadata": {
        "id": "NG-XQwKpERS-"
      }
    },
    {
      "cell_type": "markdown",
      "source": [
        "Train"
      ],
      "metadata": {
        "id": "8ecyGGc4Gw4B"
      }
    },
    {
      "cell_type": "code",
      "source": [
        "min = int(train['Balance'].min())\n",
        "#print(min)\n",
        "max = int(train['Balance'].max())\n",
        "#print(max)\n",
        "l = len(train)\n",
        "for i in range(l):\n",
        "  amt = train.loc[i,'Balance']\n",
        "  amt = (amt-min)/(max-min)\n",
        "  train.loc[i,'Balance'] = amt"
      ],
      "metadata": {
        "id": "Vk1Ir0A5EKwg"
      },
      "execution_count": 253,
      "outputs": []
    },
    {
      "cell_type": "code",
      "source": [
        "train['Balance'].head()"
      ],
      "metadata": {
        "colab": {
          "base_uri": "https://localhost:8080/"
        },
        "id": "It2l8KIpHFa9",
        "outputId": "9703ec2f-86e7-491f-84ed-9e9f1f720233"
      },
      "execution_count": 254,
      "outputs": [
        {
          "output_type": "execute_result",
          "data": {
            "text/plain": [
              "0    0.231148\n",
              "1    0.359323\n",
              "2    0.287925\n",
              "3    0.572062\n",
              "4    0.366536\n",
              "Name: Balance, dtype: float64"
            ]
          },
          "metadata": {},
          "execution_count": 254
        }
      ]
    },
    {
      "cell_type": "markdown",
      "source": [
        "Test"
      ],
      "metadata": {
        "id": "Tocav1L0Gx4U"
      }
    },
    {
      "cell_type": "code",
      "source": [
        "min = int(test['Balance'].min())\n",
        "#print(min)\n",
        "max = int(test['Balance'].max())\n",
        "#print(max)\n",
        "l = len(test)\n",
        "for i in range(l):\n",
        "  amt = test.loc[i,'Balance']\n",
        "  amt = (amt-min)/(max-min)\n",
        "  test.loc[i,'Balance'] = amt"
      ],
      "metadata": {
        "id": "7s3jtYhrHT7h"
      },
      "execution_count": 255,
      "outputs": []
    },
    {
      "cell_type": "code",
      "source": [
        "test['Balance'].head()"
      ],
      "metadata": {
        "colab": {
          "base_uri": "https://localhost:8080/"
        },
        "id": "g8-9OPJyHboy",
        "outputId": "e3813fe6-5d76-47b5-bd98-738c4b465826"
      },
      "execution_count": 256,
      "outputs": [
        {
          "output_type": "execute_result",
          "data": {
            "text/plain": [
              "0    0.413891\n",
              "1    0.139709\n",
              "2    0.179983\n",
              "3    0.011128\n",
              "4    0.453304\n",
              "Name: Balance, dtype: float64"
            ]
          },
          "metadata": {},
          "execution_count": 256
        }
      ]
    },
    {
      "cell_type": "markdown",
      "source": [
        "Target"
      ],
      "metadata": {
        "id": "A3bzf_8pJkNy"
      }
    },
    {
      "cell_type": "code",
      "source": [
        "target.value_counts()\n",
        "print('{}% of Custormers are having Is_churn = 0'.format(target.value_counts()[0]/len(target)))\n",
        "print('{}% of Custormers are having Is_churn = 1'.format(target.value_counts()[1]/len(target)))"
      ],
      "metadata": {
        "colab": {
          "base_uri": "https://localhost:8080/"
        },
        "id": "_C9HkMEqJhFd",
        "outputId": "67a4fd46-2fc9-4f01-d190-4877ab03e768"
      },
      "execution_count": 274,
      "outputs": [
        {
          "output_type": "stream",
          "name": "stdout",
          "text": [
            "0.7688721804511278% of Custormers are having Is_churn = 0\n",
            "0.23112781954887218% of Custormers are having Is_churn = 1\n"
          ]
        }
      ]
    },
    {
      "cell_type": "markdown",
      "source": [
        ""
      ],
      "metadata": {
        "id": "UGuUo69ACOPK"
      }
    },
    {
      "cell_type": "markdown",
      "source": [
        "Base Models"
      ],
      "metadata": {
        "id": "mrLbshHhIxil"
      }
    },
    {
      "cell_type": "code",
      "source": [
        "from sklearn.model_selection import train_test_split\n",
        "X_train , X_cv , y_train , y_cv = train_test_split(train,target,test_size = 0.2)"
      ],
      "metadata": {
        "id": "5OmbGnYFxEWQ"
      },
      "execution_count": 268,
      "outputs": []
    },
    {
      "cell_type": "code",
      "source": [
        "from sklearn.linear_model import LogisticRegression\n",
        "from sklearn.metrics import confusion_matrix\n",
        "from sklearn.metrics import roc_auc_score\n",
        "from sklearn.datasets import make_classification\n",
        "from sklearn.linear_model import LogisticRegression\n",
        "from sklearn.model_selection import train_test_split\n",
        "from sklearn.pipeline import make_pipeline\n",
        "from sklearn.preprocessing import StandardScaler\n",
        "#https://scikit-learn.org/stable/modules/preprocessing.html\n",
        "\n",
        "pipe = make_pipeline(StandardScaler(), LogisticRegression(max_iter=1000))\n",
        "pipe.fit(X_train, y_train)\n",
        "y_cv_pred = pipe.predict(X_cv)\n",
        "y_cv_pred_prob = pipe.predict_proba(X_cv)"
      ],
      "metadata": {
        "id": "znahIaNcxIv4"
      },
      "execution_count": 269,
      "outputs": []
    },
    {
      "cell_type": "code",
      "source": [
        "#https://medium.com/@dtuk81/confusion-matrix-visualization-fc31e3f30fea\n",
        "import seaborn as sns\n",
        "cf_matrix = confusion_matrix(y_cv, y_cv_pred)\n",
        "sns.heatmap(cf_matrix, annot=True)\n",
        "plt.title('Confusion Matrix : data2 cv')"
      ],
      "metadata": {
        "colab": {
          "base_uri": "https://localhost:8080/",
          "height": 298
        },
        "id": "hdlAFVhgIh2h",
        "outputId": "afd412ec-aba3-471f-a648-919bab200c04"
      },
      "execution_count": 270,
      "outputs": [
        {
          "output_type": "execute_result",
          "data": {
            "text/plain": [
              "Text(0.5, 1.0, 'Confusion Matrix : data2 cv')"
            ]
          },
          "metadata": {},
          "execution_count": 270
        },
        {
          "output_type": "display_data",
          "data": {
            "image/png": "[encoded data removed]",
            "text/plain": [
              "<Figure size 432x288 with 2 Axes>"
            ]
          },
          "metadata": {
            "needs_background": "light"
          }
        }
      ]
    },
    {
      "cell_type": "code",
      "source": [
        "from sklearn.metrics import f1_score\n",
        "f1_score(y_cv, y_cv_pred, average='macro')"
      ],
      "metadata": {
        "colab": {
          "base_uri": "https://localhost:8080/"
        },
        "id": "JTEHeGDsI4-V",
        "outputId": "dae2ab68-8235-4b31-b111-569cee969b5a"
      },
      "execution_count": 275,
      "outputs": [
        {
          "output_type": "execute_result",
          "data": {
            "text/plain": [
              "0.4945870415431635"
            ]
          },
          "metadata": {},
          "execution_count": 275
        }
      ]
    },
    {
      "cell_type": "code",
      "source": [
        "y_test_pred = pipe.predict(test)"
      ],
      "metadata": {
        "id": "zdvBkomiKb7h"
      },
      "execution_count": 276,
      "outputs": []
    },
    {
      "cell_type": "code",
      "source": [
        "y_test_pred"
      ],
      "metadata": {
        "colab": {
          "base_uri": "https://localhost:8080/"
        },
        "id": "axk-zEb0MltD",
        "outputId": "e3965020-4b71-41bd-9297-4528f3f298f2"
      },
      "execution_count": 300,
      "outputs": [
        {
          "output_type": "execute_result",
          "data": {
            "text/plain": [
              "array([0, 0, 0, ..., 1, 0, 0])"
            ]
          },
          "metadata": {},
          "execution_count": 300
        }
      ]
    },
    {
      "cell_type": "code",
      "source": [
        "output1 = pd.DataFrame(np.column_stack([test_id,y_test_pred]), columns = ('ID','Is_Churn'))\n",
        "output1.to_csv('ChurnSub1.csv')"
      ],
      "metadata": {
        "id": "dZ6PbAT3Km0S"
      },
      "execution_count": 312,
      "outputs": []
    },
    {
      "cell_type": "code",
      "source": [
        "output1"
      ],
      "metadata": {
        "colab": {
          "base_uri": "https://localhost:8080/",
          "height": 423
        },
        "id": "EmUDXOFTMf1X",
        "outputId": "d2f237b1-a0d3-4ee9-c6c9-b014ba0cdcc7"
      },
      "execution_count": 313,
      "outputs": [
        {
          "output_type": "execute_result",
          "data": {
            "text/html": [
              "\n",
              "  <div id=\"df-693a5f07-3ebb-4242-a89f-057dd0410543\">\n",
              "    <div class=\"colab-df-container\">\n",
              "      <div>\n",
              "<style scoped>\n",
              "    .dataframe tbody tr th:only-of-type {\n",
              "        vertical-align: middle;\n",
              "    }\n",
              "\n",
              "    .dataframe tbody tr th {\n",
              "        vertical-align: top;\n",
              "    }\n",
              "\n",
              "    .dataframe thead th {\n",
              "        text-align: right;\n",
              "    }\n",
              "</style>\n",
              "<table border=\"1\" class=\"dataframe\">\n",
              "  <thead>\n",
              "    <tr style=\"text-align: right;\">\n",
              "      <th></th>\n",
              "      <th>ID</th>\n",
              "      <th>Is_Churn</th>\n",
              "    </tr>\n",
              "  </thead>\n",
              "  <tbody>\n",
              "    <tr>\n",
              "      <th>0</th>\n",
              "      <td>55480787</td>\n",
              "      <td>0</td>\n",
              "    </tr>\n",
              "    <tr>\n",
              "      <th>1</th>\n",
              "      <td>9aededf2</td>\n",
              "      <td>0</td>\n",
              "    </tr>\n",
              "    <tr>\n",
              "      <th>2</th>\n",
              "      <td>a5034a09</td>\n",
              "      <td>0</td>\n",
              "    </tr>\n",
              "    <tr>\n",
              "      <th>3</th>\n",
              "      <td>b3256702</td>\n",
              "      <td>0</td>\n",
              "    </tr>\n",
              "    <tr>\n",
              "      <th>4</th>\n",
              "      <td>dc28adb5</td>\n",
              "      <td>0</td>\n",
              "    </tr>\n",
              "    <tr>\n",
              "      <th>...</th>\n",
              "      <td>...</td>\n",
              "      <td>...</td>\n",
              "    </tr>\n",
              "    <tr>\n",
              "      <th>2846</th>\n",
              "      <td>19e40adf</td>\n",
              "      <td>0</td>\n",
              "    </tr>\n",
              "    <tr>\n",
              "      <th>2847</th>\n",
              "      <td>52d5bc8d</td>\n",
              "      <td>0</td>\n",
              "    </tr>\n",
              "    <tr>\n",
              "      <th>2848</th>\n",
              "      <td>f708121b</td>\n",
              "      <td>1</td>\n",
              "    </tr>\n",
              "    <tr>\n",
              "      <th>2849</th>\n",
              "      <td>f008715d</td>\n",
              "      <td>0</td>\n",
              "    </tr>\n",
              "    <tr>\n",
              "      <th>2850</th>\n",
              "      <td>36b81f59</td>\n",
              "      <td>0</td>\n",
              "    </tr>\n",
              "  </tbody>\n",
              "</table>\n",
              "<p>2851 rows × 2 columns</p>\n",
              "</div>\n",
              "      <button class=\"colab-df-convert\" onclick=\"convertToInteractive('df-693a5f07-3ebb-4242-a89f-057dd0410543')\"\n",
              "              title=\"Convert this dataframe to an interactive table.\"\n",
              "              style=\"display:none;\">\n",
              "        \n",
              "  <svg xmlns=\"http://www.w3.org/2000/svg\" height=\"24px\"viewBox=\"0 0 24 24\"\n",
              "       width=\"24px\">\n",
              "    <path d=\"M0 0h24v24H0V0z\" fill=\"none\"/>\n",
              "    <path d=\"M18.56 5.44l.94 2.06.94-2.06 2.06-.94-2.06-.94-.94-2.06-.94 2.06-2.06.94zm-11 1L8.5 8.5l.94-2.06 2.06-.94-2.06-.94L8.5 2.5l-.94 2.06-2.06.94zm10 10l.94 2.06.94-2.06 2.06-.94-2.06-.94-.94-2.06-.94 2.06-2.06.94z\"/><path d=\"M17.41 7.96l-1.37-1.37c-.4-.4-.92-.59-1.43-.59-.52 0-1.04.2-1.43.59L10.3 9.45l-7.72 7.72c-.78.78-.78 2.05 0 2.83L4 21.41c.39.39.9.59 1.41.59.51 0 1.02-.2 1.41-.59l7.78-7.78 2.81-2.81c.8-.78.8-2.07 0-2.86zM5.41 20L4 18.59l7.72-7.72 1.47 1.35L5.41 20z\"/>\n",
              "  </svg>\n",
              "      </button>\n",
              "      \n",
              "  <style>\n",
              "    .colab-df-container {\n",
              "      display:flex;\n",
              "      flex-wrap:wrap;\n",
              "      gap: 12px;\n",
              "    }\n",
              "\n",
              "    .colab-df-convert {\n",
              "      background-color: #E8F0FE;\n",
              "      border: none;\n",
              "      border-radius: 50%;\n",
              "      cursor: pointer;\n",
              "      display: none;\n",
              "      fill: #1967D2;\n",
              "      height: 32px;\n",
              "      padding: 0 0 0 0;\n",
              "      width: 32px;\n",
              "    }\n",
              "\n",
              "    .colab-df-convert:hover {\n",
              "      background-color: #E2EBFA;\n",
              "      box-shadow: 0px 1px 2px rgba(60, 64, 67, 0.3), 0px 1px 3px 1px rgba(60, 64, 67, 0.15);\n",
              "      fill: #174EA6;\n",
              "    }\n",
              "\n",
              "    [theme=dark] .colab-df-convert {\n",
              "      background-color: #3B4455;\n",
              "      fill: #D2E3FC;\n",
              "    }\n",
              "\n",
              "    [theme=dark] .colab-df-convert:hover {\n",
              "      background-color: #434B5C;\n",
              "      box-shadow: 0px 1px 3px 1px rgba(0, 0, 0, 0.15);\n",
              "      filter: drop-shadow(0px 1px 2px rgba(0, 0, 0, 0.3));\n",
              "      fill: #FFFFFF;\n",
              "    }\n",
              "  </style>\n",
              "\n",
              "      <script>\n",
              "        const buttonEl =\n",
              "          document.querySelector('#df-693a5f07-3ebb-4242-a89f-057dd0410543 button.colab-df-convert');\n",
              "        buttonEl.style.display =\n",
              "          google.colab.kernel.accessAllowed ? 'block' : 'none';\n",
              "\n",
              "        async function convertToInteractive(key) {\n",
              "          const element = document.querySelector('#df-693a5f07-3ebb-4242-a89f-057dd0410543');\n",
              "          const dataTable =\n",
              "            await google.colab.kernel.invokeFunction('convertToInteractive',\n",
              "                                                     [key], {});\n",
              "          if (!dataTable) return;\n",
              "\n",
              "          const docLinkHtml = 'Like what you see? Visit the ' +\n",
              "            '<a target=\"_blank\" href=https://colab.research.google.com/notebooks/data_table.ipynb>data table notebook</a>'\n",
              "            + ' to learn more about interactive tables.';\n",
              "          element.innerHTML = '';\n",
              "          dataTable['output_type'] = 'display_data';\n",
              "          await google.colab.output.renderOutput(dataTable, element);\n",
              "          const docLink = document.createElement('div');\n",
              "          docLink.innerHTML = docLinkHtml;\n",
              "          element.appendChild(docLink);\n",
              "        }\n",
              "      </script>\n",
              "    </div>\n",
              "  </div>\n",
              "  "
            ],
            "text/plain": [
              "            ID Is_Churn\n",
              "0     55480787        0\n",
              "1     9aededf2        0\n",
              "2     a5034a09        0\n",
              "3     b3256702        0\n",
              "4     dc28adb5        0\n",
              "...        ...      ...\n",
              "2846  19e40adf        0\n",
              "2847  52d5bc8d        0\n",
              "2848  f708121b        1\n",
              "2849  f008715d        0\n",
              "2850  36b81f59        0\n",
              "\n",
              "[2851 rows x 2 columns]"
            ]
          },
          "metadata": {},
          "execution_count": 313
        }
      ]
    },
    {
      "cell_type": "code",
      "source": [
        "output1.isna().sum()"
      ],
      "metadata": {
        "colab": {
          "base_uri": "https://localhost:8080/"
        },
        "id": "l2CBBBUdPxXe",
        "outputId": "4b4e5caf-adbf-45db-d7e7-f5e987f877dc"
      },
      "execution_count": 315,
      "outputs": [
        {
          "output_type": "execute_result",
          "data": {
            "text/plain": [
              "ID          0\n",
              "Is_Churn    0\n",
              "dtype: int64"
            ]
          },
          "metadata": {},
          "execution_count": 315
        }
      ]
    },
    {
      "cell_type": "code",
      "source": [
        "from google.colab import files\n",
        "files.download('ChurnSub1.csv')"
      ],
      "metadata": {
        "colab": {
          "base_uri": "https://localhost:8080/",
          "height": 17
        },
        "id": "QAKolnC5LYht",
        "outputId": "3c050141-2566-4894-f8c5-c4cd970b5eb7"
      },
      "execution_count": 314,
      "outputs": [
        {
          "output_type": "display_data",
          "data": {
            "application/javascript": [
              "\n",
              "    async function download(id, filename, size) {\n",
              "      if (!google.colab.kernel.accessAllowed) {\n",
              "        return;\n",
              "      }\n",
              "      const div = document.createElement('div');\n",
              "      const label = document.createElement('label');\n",
              "      label.textContent = `Downloading \"${filename}\": `;\n",
              "      div.appendChild(label);\n",
              "      const progress = document.createElement('progress');\n",
              "      progress.max = size;\n",
              "      div.appendChild(progress);\n",
              "      document.body.appendChild(div);\n",
              "\n",
              "      const buffers = [];\n",
              "      let downloaded = 0;\n",
              "\n",
              "      const channel = await google.colab.kernel.comms.open(id);\n",
              "      // Send a message to notify the kernel that we're ready.\n",
              "      channel.send({})\n",
              "\n",
              "      for await (const message of channel.messages) {\n",
              "        // Send a message to notify the kernel that we're ready.\n",
              "        channel.send({})\n",
              "        if (message.buffers) {\n",
              "          for (const buffer of message.buffers) {\n",
              "            buffers.push(buffer);\n",
              "            downloaded += buffer.byteLength;\n",
              "            progress.value = downloaded;\n",
              "          }\n",
              "        }\n",
              "      }\n",
              "      const blob = new Blob(buffers, {type: 'application/binary'});\n",
              "      const a = document.createElement('a');\n",
              "      a.href = window.URL.createObjectURL(blob);\n",
              "      a.download = filename;\n",
              "      div.appendChild(a);\n",
              "      a.click();\n",
              "      div.remove();\n",
              "    }\n",
              "  "
            ],
            "text/plain": [
              "<IPython.core.display.Javascript object>"
            ]
          },
          "metadata": {}
        },
        {
          "output_type": "display_data",
          "data": {
            "application/javascript": [
              "download(\"download_7dcb350b-6068-451e-b021-a2bd198890c8\", \"ChurnSub1.csv\", 44519)"
            ],
            "text/plain": [
              "<IPython.core.display.Javascript object>"
            ]
          },
          "metadata": {}
        }
      ]
    },
    {
      "cell_type": "markdown",
      "source": [
        "We can see that the data is Imbalance in nature"
      ],
      "metadata": {
        "id": "8_Sb9_txI_pe"
      }
    },
    {
      "cell_type": "markdown",
      "source": [
        ""
      ],
      "metadata": {
        "id": "R_fXvrczGiDX"
      }
    },
    {
      "cell_type": "markdown",
      "source": [
        "Customer with Credit card are more liked to have churn = 1"
      ],
      "metadata": {
        "id": "qhEs4plO0Shr"
      }
    },
    {
      "cell_type": "markdown",
      "source": [
        ""
      ],
      "metadata": {
        "id": "J6awKUxvy4KY"
      }
    },
    {
      "cell_type": "markdown",
      "source": [
        ""
      ],
      "metadata": {
        "id": "XIBzK7DenbfL"
      }
    },
    {
      "cell_type": "markdown",
      "source": [
        ""
      ],
      "metadata": {
        "id": "vGUPuC95nG-q"
      }
    },
    {
      "cell_type": "code",
      "source": [
        ""
      ],
      "metadata": {
        "id": "4QL5DLOagNHH"
      },
      "execution_count": 74,
      "outputs": []
    }
  ]
}